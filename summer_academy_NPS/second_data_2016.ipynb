{
 "cells": [
  {
   "cell_type": "code",
   "execution_count": 113,
   "metadata": {},
   "outputs": [],
   "source": [
    "import pandas as pd\n",
    "import numpy as np\n",
    "import seaborn as sns\n",
    "import matplotlib.pyplot as plt\n",
    "# PATH = \"./2016/Week 8 Feedback (2016, incomplete) - results.csv\" #week 8"
   ]
  },
  {
   "cell_type": "code",
   "execution_count": 2,
   "metadata": {},
   "outputs": [
    {
     "name": "stderr",
     "output_type": "stream",
     "text": [
      "/anaconda3/lib/python3.7/site-packages/ipykernel_launcher.py:12: FutureWarning: Sorting because non-concatenation axis is not aligned. A future version\n",
      "of pandas will change to not sort by default.\n",
      "\n",
      "To accept the future behavior, pass 'sort=False'.\n",
      "\n",
      "To retain the current behavior and silence the warning, pass 'sort=True'.\n",
      "\n",
      "  if sys.path[0] == '':\n"
     ]
    },
    {
     "name": "stdout",
     "output_type": "stream",
     "text": [
      "./2016/Anon Week 7 Feedback - SG.csv\n",
      "./2016/Anon Week 1 Feedback - HK.csv\n",
      "./2016/Anon Week 2 Feedback - HK.csv\n",
      "./2016/Anon Week 3 Feedback - HK.csv\n",
      "./2016/Anon Week 4 Feedback - HK.csv\n",
      "./2016/Anon Week 7 Feedback - HK.csv\n",
      "./2016/Anon Week 1 Feedback - Taipei.csv\n",
      "./2016/Anon Week 2 Feedback - Taipei.csv\n",
      "./2016/Anon Week 3 Feedback - Taipei.csv\n",
      "./2016/Anon Week 4 Feedback - Taipei.csv\n",
      "./2016/Anon Week 5 Feedback - Taipei.csv\n",
      "./2016/Anon Week 1 Feedback - Tokyo.csv\n",
      "./2016/Anon Week 2 Feedback - Tokyo.csv\n",
      "./2016/Anon Week 3 Feedback - Tokyo.csv\n",
      "./2016/Anon Week 4 Feedback - Tokyo.csv\n",
      "./2016/Anon Week 5 Feedback - Tokyo.csv\n",
      "./2016/Anon Week 7 Feedback - Tokyo.csv\n"
     ]
    }
   ],
   "source": [
    "# reading 2016 data week 1-7\n",
    "locations = ['LA','NY','SF','SG','SV','HK', 'Taipei', 'Tokyo']\n",
    "df = pd.DataFrame()\n",
    "for i in range (len(locations)):\n",
    "    for week in range (1,8):\n",
    "        file_name = \"./2016/Anon Week \" + str(week) + \" Feedback - \" + str(locations[i]) + \".csv\"\n",
    "#         print(file_name)\n",
    "        try:\n",
    "            new_df = pd.read_csv(file_name)\n",
    "            new_df[\"Location\"] = locations[i]\n",
    "            new_df['Week'] = week\n",
    "            df = pd.concat([df,new_df], ignore_index=True)\n",
    "        except (FileNotFoundError):\n",
    "            print(file_name)\n",
    "    \n",
    "df = df.drop('Unnamed: 0', axis = 1)\n",
    "df = df.drop('Timestamp', axis=1)\n",
    "\n",
    "\n"
   ]
  },
  {
   "cell_type": "code",
   "execution_count": 3,
   "metadata": {},
   "outputs": [
    {
     "data": {
      "text/html": [
       "<div>\n",
       "<style scoped>\n",
       "    .dataframe tbody tr th:only-of-type {\n",
       "        vertical-align: middle;\n",
       "    }\n",
       "\n",
       "    .dataframe tbody tr th {\n",
       "        vertical-align: top;\n",
       "    }\n",
       "\n",
       "    .dataframe thead th {\n",
       "        text-align: right;\n",
       "    }\n",
       "</style>\n",
       "<table border=\"1\" class=\"dataframe\">\n",
       "  <thead>\n",
       "    <tr style=\"text-align: right;\">\n",
       "      <th></th>\n",
       "      <th>How well are the tutorials paced?</th>\n",
       "      <th>How well is the schedule paced?</th>\n",
       "      <th>How would you rate your overall satisfaction with the Summer Academy this week?</th>\n",
       "      <th>Location</th>\n",
       "      <th>Week</th>\n",
       "      <th>What track are you in?</th>\n",
       "    </tr>\n",
       "  </thead>\n",
       "  <tbody>\n",
       "    <tr>\n",
       "      <th>0</th>\n",
       "      <td>4.0</td>\n",
       "      <td>NaN</td>\n",
       "      <td>3</td>\n",
       "      <td>LA</td>\n",
       "      <td>1</td>\n",
       "      <td>NaN</td>\n",
       "    </tr>\n",
       "    <tr>\n",
       "      <th>1</th>\n",
       "      <td>4.0</td>\n",
       "      <td>NaN</td>\n",
       "      <td>4</td>\n",
       "      <td>LA</td>\n",
       "      <td>1</td>\n",
       "      <td>NaN</td>\n",
       "    </tr>\n",
       "    <tr>\n",
       "      <th>2</th>\n",
       "      <td>4.0</td>\n",
       "      <td>NaN</td>\n",
       "      <td>4</td>\n",
       "      <td>LA</td>\n",
       "      <td>1</td>\n",
       "      <td>NaN</td>\n",
       "    </tr>\n",
       "    <tr>\n",
       "      <th>3</th>\n",
       "      <td>4.0</td>\n",
       "      <td>NaN</td>\n",
       "      <td>4</td>\n",
       "      <td>LA</td>\n",
       "      <td>1</td>\n",
       "      <td>NaN</td>\n",
       "    </tr>\n",
       "    <tr>\n",
       "      <th>4</th>\n",
       "      <td>5.0</td>\n",
       "      <td>NaN</td>\n",
       "      <td>4</td>\n",
       "      <td>LA</td>\n",
       "      <td>1</td>\n",
       "      <td>NaN</td>\n",
       "    </tr>\n",
       "  </tbody>\n",
       "</table>\n",
       "</div>"
      ],
      "text/plain": [
       "   How well are the tutorials paced? How well is the schedule paced?  \\\n",
       "0                                4.0                             NaN   \n",
       "1                                4.0                             NaN   \n",
       "2                                4.0                             NaN   \n",
       "3                                4.0                             NaN   \n",
       "4                                5.0                             NaN   \n",
       "\n",
       "  How would you rate your overall satisfaction with the Summer Academy this week?  \\\n",
       "0                                                  3                                \n",
       "1                                                  4                                \n",
       "2                                                  4                                \n",
       "3                                                  4                                \n",
       "4                                                  4                                \n",
       "\n",
       "  Location  Week What track are you in?  \n",
       "0       LA     1                    NaN  \n",
       "1       LA     1                    NaN  \n",
       "2       LA     1                    NaN  \n",
       "3       LA     1                    NaN  \n",
       "4       LA     1                    NaN  "
      ]
     },
     "execution_count": 3,
     "metadata": {},
     "output_type": "execute_result"
    }
   ],
   "source": [
    "df.head()"
   ]
  },
  {
   "cell_type": "code",
   "execution_count": 4,
   "metadata": {},
   "outputs": [
    {
     "data": {
      "text/plain": [
       "SV        314\n",
       "SF        295\n",
       "NY        169\n",
       "LA         59\n",
       "SG         48\n",
       "Taipei     23\n",
       "Tokyo      13\n",
       "HK          6\n",
       "Name: Location, dtype: int64"
      ]
     },
     "execution_count": 4,
     "metadata": {},
     "output_type": "execute_result"
    }
   ],
   "source": [
    "df[\"Location\"].value_counts()"
   ]
  },
  {
   "cell_type": "markdown",
   "metadata": {},
   "source": [
    "### Clean Confounding Pacing Data and Merge Schedule-Pacing and Tutorial-Pacing Columns"
   ]
  },
  {
   "cell_type": "code",
   "execution_count": 5,
   "metadata": {},
   "outputs": [],
   "source": [
    "def clean_combine_pacing(df):\n",
    "    # Drop confounding #REF! value\n",
    "    df = df[df[\"How well is the schedule paced?\"] != \"#REF!\"]\n",
    "\n",
    "    # Replace NaNs with zero-values\n",
    "    df[\"How well are the tutorials paced?\"] = df[\"How well are the tutorials paced?\"].fillna(0).astype(int)\n",
    "    df[\"How well is the schedule paced?\"] = df[\"How well is the schedule paced?\"].fillna(0).astype(int)\n",
    "    df[\"Overall Satisfaction\"] = df[\"How would you rate your overall satisfaction with the Summer Academy this week?\"].astype(int)\n",
    "    df[\"Overall Satisfaction\"] = df[\"Overall Satisfaction\"] * 2\n",
    "    # Merge both columns into new column \"Pacing\"\n",
    "    df[\"Pacing\"] = (df[\"How well are the tutorials paced?\"] + df[\"How well is the schedule paced?\"])\n",
    "    df.drop(columns=[\"How well are the tutorials paced?\", \"How well is the schedule paced?\", \"How would you rate your overall satisfaction with the Summer Academy this week?\"], inplace=True)\n",
    "    \n",
    "    return df"
   ]
  },
  {
   "cell_type": "markdown",
   "metadata": {},
   "source": [
    "### NOTE: Run the cell below _once_ to clean and combine _Pacing_ data!"
   ]
  },
  {
   "cell_type": "code",
   "execution_count": 6,
   "metadata": {},
   "outputs": [],
   "source": [
    "# np.nan --> int(0)\n",
    "#            int(-1)\n",
    "#            float(0.0)\n",
    "#            str(\"None\")\n",
    "#            bool(False)"
   ]
  },
  {
   "cell_type": "code",
   "execution_count": 7,
   "metadata": {},
   "outputs": [
    {
     "name": "stderr",
     "output_type": "stream",
     "text": [
      "/anaconda3/lib/python3.7/site-packages/ipykernel_launcher.py:6: SettingWithCopyWarning: \n",
      "A value is trying to be set on a copy of a slice from a DataFrame.\n",
      "Try using .loc[row_indexer,col_indexer] = value instead\n",
      "\n",
      "See the caveats in the documentation: http://pandas.pydata.org/pandas-docs/stable/indexing.html#indexing-view-versus-copy\n",
      "  \n",
      "/anaconda3/lib/python3.7/site-packages/ipykernel_launcher.py:7: SettingWithCopyWarning: \n",
      "A value is trying to be set on a copy of a slice from a DataFrame.\n",
      "Try using .loc[row_indexer,col_indexer] = value instead\n",
      "\n",
      "See the caveats in the documentation: http://pandas.pydata.org/pandas-docs/stable/indexing.html#indexing-view-versus-copy\n",
      "  import sys\n",
      "/anaconda3/lib/python3.7/site-packages/ipykernel_launcher.py:8: SettingWithCopyWarning: \n",
      "A value is trying to be set on a copy of a slice from a DataFrame.\n",
      "Try using .loc[row_indexer,col_indexer] = value instead\n",
      "\n",
      "See the caveats in the documentation: http://pandas.pydata.org/pandas-docs/stable/indexing.html#indexing-view-versus-copy\n",
      "  \n",
      "/anaconda3/lib/python3.7/site-packages/ipykernel_launcher.py:9: SettingWithCopyWarning: \n",
      "A value is trying to be set on a copy of a slice from a DataFrame.\n",
      "Try using .loc[row_indexer,col_indexer] = value instead\n",
      "\n",
      "See the caveats in the documentation: http://pandas.pydata.org/pandas-docs/stable/indexing.html#indexing-view-versus-copy\n",
      "  if __name__ == '__main__':\n",
      "/anaconda3/lib/python3.7/site-packages/ipykernel_launcher.py:11: SettingWithCopyWarning: \n",
      "A value is trying to be set on a copy of a slice from a DataFrame.\n",
      "Try using .loc[row_indexer,col_indexer] = value instead\n",
      "\n",
      "See the caveats in the documentation: http://pandas.pydata.org/pandas-docs/stable/indexing.html#indexing-view-versus-copy\n",
      "  # This is added back by InteractiveShellApp.init_path()\n",
      "/anaconda3/lib/python3.7/site-packages/pandas/core/frame.py:3697: SettingWithCopyWarning: \n",
      "A value is trying to be set on a copy of a slice from a DataFrame\n",
      "\n",
      "See the caveats in the documentation: http://pandas.pydata.org/pandas-docs/stable/indexing.html#indexing-view-versus-copy\n",
      "  errors=errors)\n"
     ]
    },
    {
     "data": {
      "text/html": [
       "<div>\n",
       "<style scoped>\n",
       "    .dataframe tbody tr th:only-of-type {\n",
       "        vertical-align: middle;\n",
       "    }\n",
       "\n",
       "    .dataframe tbody tr th {\n",
       "        vertical-align: top;\n",
       "    }\n",
       "\n",
       "    .dataframe thead th {\n",
       "        text-align: right;\n",
       "    }\n",
       "</style>\n",
       "<table border=\"1\" class=\"dataframe\">\n",
       "  <thead>\n",
       "    <tr style=\"text-align: right;\">\n",
       "      <th></th>\n",
       "      <th>Location</th>\n",
       "      <th>Week</th>\n",
       "      <th>What track are you in?</th>\n",
       "      <th>Overall Satisfaction</th>\n",
       "      <th>Pacing</th>\n",
       "    </tr>\n",
       "  </thead>\n",
       "  <tbody>\n",
       "    <tr>\n",
       "      <th>0</th>\n",
       "      <td>LA</td>\n",
       "      <td>1</td>\n",
       "      <td>NaN</td>\n",
       "      <td>6</td>\n",
       "      <td>4</td>\n",
       "    </tr>\n",
       "    <tr>\n",
       "      <th>1</th>\n",
       "      <td>LA</td>\n",
       "      <td>1</td>\n",
       "      <td>NaN</td>\n",
       "      <td>8</td>\n",
       "      <td>4</td>\n",
       "    </tr>\n",
       "    <tr>\n",
       "      <th>2</th>\n",
       "      <td>LA</td>\n",
       "      <td>1</td>\n",
       "      <td>NaN</td>\n",
       "      <td>8</td>\n",
       "      <td>4</td>\n",
       "    </tr>\n",
       "    <tr>\n",
       "      <th>3</th>\n",
       "      <td>LA</td>\n",
       "      <td>1</td>\n",
       "      <td>NaN</td>\n",
       "      <td>8</td>\n",
       "      <td>4</td>\n",
       "    </tr>\n",
       "    <tr>\n",
       "      <th>4</th>\n",
       "      <td>LA</td>\n",
       "      <td>1</td>\n",
       "      <td>NaN</td>\n",
       "      <td>8</td>\n",
       "      <td>5</td>\n",
       "    </tr>\n",
       "  </tbody>\n",
       "</table>\n",
       "</div>"
      ],
      "text/plain": [
       "  Location  Week What track are you in?  Overall Satisfaction  Pacing\n",
       "0       LA     1                    NaN                     6       4\n",
       "1       LA     1                    NaN                     8       4\n",
       "2       LA     1                    NaN                     8       4\n",
       "3       LA     1                    NaN                     8       4\n",
       "4       LA     1                    NaN                     8       5"
      ]
     },
     "execution_count": 7,
     "metadata": {},
     "output_type": "execute_result"
    }
   ],
   "source": [
    "df = clean_combine_pacing(df)\n",
    "df.head()"
   ]
  },
  {
   "cell_type": "markdown",
   "metadata": {},
   "source": [
    "## Naming the columns to make concatination easy"
   ]
  },
  {
   "cell_type": "code",
   "execution_count": 8,
   "metadata": {
    "scrolled": true
   },
   "outputs": [
    {
     "data": {
      "text/html": [
       "<div>\n",
       "<style scoped>\n",
       "    .dataframe tbody tr th:only-of-type {\n",
       "        vertical-align: middle;\n",
       "    }\n",
       "\n",
       "    .dataframe tbody tr th {\n",
       "        vertical-align: top;\n",
       "    }\n",
       "\n",
       "    .dataframe thead th {\n",
       "        text-align: right;\n",
       "    }\n",
       "</style>\n",
       "<table border=\"1\" class=\"dataframe\">\n",
       "  <thead>\n",
       "    <tr style=\"text-align: right;\">\n",
       "      <th></th>\n",
       "      <th>Location</th>\n",
       "      <th>Week</th>\n",
       "      <th>Track</th>\n",
       "      <th>Recommend</th>\n",
       "      <th>Pacing</th>\n",
       "    </tr>\n",
       "  </thead>\n",
       "  <tbody>\n",
       "    <tr>\n",
       "      <th>0</th>\n",
       "      <td>LA</td>\n",
       "      <td>1</td>\n",
       "      <td>NaN</td>\n",
       "      <td>6</td>\n",
       "      <td>4</td>\n",
       "    </tr>\n",
       "    <tr>\n",
       "      <th>1</th>\n",
       "      <td>LA</td>\n",
       "      <td>1</td>\n",
       "      <td>NaN</td>\n",
       "      <td>8</td>\n",
       "      <td>4</td>\n",
       "    </tr>\n",
       "    <tr>\n",
       "      <th>2</th>\n",
       "      <td>LA</td>\n",
       "      <td>1</td>\n",
       "      <td>NaN</td>\n",
       "      <td>8</td>\n",
       "      <td>4</td>\n",
       "    </tr>\n",
       "    <tr>\n",
       "      <th>3</th>\n",
       "      <td>LA</td>\n",
       "      <td>1</td>\n",
       "      <td>NaN</td>\n",
       "      <td>8</td>\n",
       "      <td>4</td>\n",
       "    </tr>\n",
       "    <tr>\n",
       "      <th>4</th>\n",
       "      <td>LA</td>\n",
       "      <td>1</td>\n",
       "      <td>NaN</td>\n",
       "      <td>8</td>\n",
       "      <td>5</td>\n",
       "    </tr>\n",
       "    <tr>\n",
       "      <th>5</th>\n",
       "      <td>LA</td>\n",
       "      <td>1</td>\n",
       "      <td>NaN</td>\n",
       "      <td>10</td>\n",
       "      <td>4</td>\n",
       "    </tr>\n",
       "    <tr>\n",
       "      <th>6</th>\n",
       "      <td>LA</td>\n",
       "      <td>1</td>\n",
       "      <td>NaN</td>\n",
       "      <td>10</td>\n",
       "      <td>3</td>\n",
       "    </tr>\n",
       "    <tr>\n",
       "      <th>7</th>\n",
       "      <td>LA</td>\n",
       "      <td>2</td>\n",
       "      <td>NaN</td>\n",
       "      <td>8</td>\n",
       "      <td>2</td>\n",
       "    </tr>\n",
       "    <tr>\n",
       "      <th>8</th>\n",
       "      <td>LA</td>\n",
       "      <td>2</td>\n",
       "      <td>NaN</td>\n",
       "      <td>6</td>\n",
       "      <td>3</td>\n",
       "    </tr>\n",
       "    <tr>\n",
       "      <th>9</th>\n",
       "      <td>LA</td>\n",
       "      <td>2</td>\n",
       "      <td>NaN</td>\n",
       "      <td>8</td>\n",
       "      <td>4</td>\n",
       "    </tr>\n",
       "    <tr>\n",
       "      <th>10</th>\n",
       "      <td>LA</td>\n",
       "      <td>2</td>\n",
       "      <td>NaN</td>\n",
       "      <td>8</td>\n",
       "      <td>3</td>\n",
       "    </tr>\n",
       "    <tr>\n",
       "      <th>11</th>\n",
       "      <td>LA</td>\n",
       "      <td>2</td>\n",
       "      <td>NaN</td>\n",
       "      <td>8</td>\n",
       "      <td>3</td>\n",
       "    </tr>\n",
       "    <tr>\n",
       "      <th>12</th>\n",
       "      <td>LA</td>\n",
       "      <td>2</td>\n",
       "      <td>NaN</td>\n",
       "      <td>10</td>\n",
       "      <td>3</td>\n",
       "    </tr>\n",
       "    <tr>\n",
       "      <th>13</th>\n",
       "      <td>LA</td>\n",
       "      <td>2</td>\n",
       "      <td>NaN</td>\n",
       "      <td>10</td>\n",
       "      <td>3</td>\n",
       "    </tr>\n",
       "    <tr>\n",
       "      <th>14</th>\n",
       "      <td>LA</td>\n",
       "      <td>3</td>\n",
       "      <td>NaN</td>\n",
       "      <td>8</td>\n",
       "      <td>2</td>\n",
       "    </tr>\n",
       "    <tr>\n",
       "      <th>15</th>\n",
       "      <td>LA</td>\n",
       "      <td>3</td>\n",
       "      <td>NaN</td>\n",
       "      <td>8</td>\n",
       "      <td>4</td>\n",
       "    </tr>\n",
       "    <tr>\n",
       "      <th>16</th>\n",
       "      <td>LA</td>\n",
       "      <td>3</td>\n",
       "      <td>NaN</td>\n",
       "      <td>8</td>\n",
       "      <td>3</td>\n",
       "    </tr>\n",
       "    <tr>\n",
       "      <th>17</th>\n",
       "      <td>LA</td>\n",
       "      <td>3</td>\n",
       "      <td>NaN</td>\n",
       "      <td>8</td>\n",
       "      <td>3</td>\n",
       "    </tr>\n",
       "    <tr>\n",
       "      <th>18</th>\n",
       "      <td>LA</td>\n",
       "      <td>3</td>\n",
       "      <td>NaN</td>\n",
       "      <td>8</td>\n",
       "      <td>3</td>\n",
       "    </tr>\n",
       "    <tr>\n",
       "      <th>19</th>\n",
       "      <td>LA</td>\n",
       "      <td>3</td>\n",
       "      <td>NaN</td>\n",
       "      <td>10</td>\n",
       "      <td>4</td>\n",
       "    </tr>\n",
       "    <tr>\n",
       "      <th>20</th>\n",
       "      <td>LA</td>\n",
       "      <td>4</td>\n",
       "      <td>NaN</td>\n",
       "      <td>10</td>\n",
       "      <td>3</td>\n",
       "    </tr>\n",
       "    <tr>\n",
       "      <th>21</th>\n",
       "      <td>LA</td>\n",
       "      <td>4</td>\n",
       "      <td>NaN</td>\n",
       "      <td>10</td>\n",
       "      <td>3</td>\n",
       "    </tr>\n",
       "    <tr>\n",
       "      <th>22</th>\n",
       "      <td>LA</td>\n",
       "      <td>4</td>\n",
       "      <td>NaN</td>\n",
       "      <td>10</td>\n",
       "      <td>3</td>\n",
       "    </tr>\n",
       "    <tr>\n",
       "      <th>23</th>\n",
       "      <td>LA</td>\n",
       "      <td>4</td>\n",
       "      <td>NaN</td>\n",
       "      <td>10</td>\n",
       "      <td>4</td>\n",
       "    </tr>\n",
       "    <tr>\n",
       "      <th>24</th>\n",
       "      <td>LA</td>\n",
       "      <td>4</td>\n",
       "      <td>NaN</td>\n",
       "      <td>6</td>\n",
       "      <td>3</td>\n",
       "    </tr>\n",
       "    <tr>\n",
       "      <th>25</th>\n",
       "      <td>LA</td>\n",
       "      <td>4</td>\n",
       "      <td>NaN</td>\n",
       "      <td>8</td>\n",
       "      <td>3</td>\n",
       "    </tr>\n",
       "    <tr>\n",
       "      <th>26</th>\n",
       "      <td>LA</td>\n",
       "      <td>4</td>\n",
       "      <td>NaN</td>\n",
       "      <td>8</td>\n",
       "      <td>3</td>\n",
       "    </tr>\n",
       "    <tr>\n",
       "      <th>27</th>\n",
       "      <td>LA</td>\n",
       "      <td>4</td>\n",
       "      <td>NaN</td>\n",
       "      <td>8</td>\n",
       "      <td>3</td>\n",
       "    </tr>\n",
       "    <tr>\n",
       "      <th>28</th>\n",
       "      <td>LA</td>\n",
       "      <td>5</td>\n",
       "      <td>Games</td>\n",
       "      <td>6</td>\n",
       "      <td>2</td>\n",
       "    </tr>\n",
       "    <tr>\n",
       "      <th>29</th>\n",
       "      <td>LA</td>\n",
       "      <td>5</td>\n",
       "      <td>Intro</td>\n",
       "      <td>8</td>\n",
       "      <td>3</td>\n",
       "    </tr>\n",
       "    <tr>\n",
       "      <th>...</th>\n",
       "      <td>...</td>\n",
       "      <td>...</td>\n",
       "      <td>...</td>\n",
       "      <td>...</td>\n",
       "      <td>...</td>\n",
       "    </tr>\n",
       "    <tr>\n",
       "      <th>897</th>\n",
       "      <td>Taipei</td>\n",
       "      <td>6</td>\n",
       "      <td>NaN</td>\n",
       "      <td>6</td>\n",
       "      <td>4</td>\n",
       "    </tr>\n",
       "    <tr>\n",
       "      <th>898</th>\n",
       "      <td>Taipei</td>\n",
       "      <td>6</td>\n",
       "      <td>NaN</td>\n",
       "      <td>6</td>\n",
       "      <td>3</td>\n",
       "    </tr>\n",
       "    <tr>\n",
       "      <th>899</th>\n",
       "      <td>Taipei</td>\n",
       "      <td>6</td>\n",
       "      <td>NaN</td>\n",
       "      <td>10</td>\n",
       "      <td>2</td>\n",
       "    </tr>\n",
       "    <tr>\n",
       "      <th>900</th>\n",
       "      <td>Taipei</td>\n",
       "      <td>6</td>\n",
       "      <td>NaN</td>\n",
       "      <td>8</td>\n",
       "      <td>4</td>\n",
       "    </tr>\n",
       "    <tr>\n",
       "      <th>901</th>\n",
       "      <td>Taipei</td>\n",
       "      <td>6</td>\n",
       "      <td>NaN</td>\n",
       "      <td>10</td>\n",
       "      <td>4</td>\n",
       "    </tr>\n",
       "    <tr>\n",
       "      <th>902</th>\n",
       "      <td>Taipei</td>\n",
       "      <td>6</td>\n",
       "      <td>NaN</td>\n",
       "      <td>10</td>\n",
       "      <td>3</td>\n",
       "    </tr>\n",
       "    <tr>\n",
       "      <th>903</th>\n",
       "      <td>Taipei</td>\n",
       "      <td>7</td>\n",
       "      <td>NaN</td>\n",
       "      <td>6</td>\n",
       "      <td>3</td>\n",
       "    </tr>\n",
       "    <tr>\n",
       "      <th>904</th>\n",
       "      <td>Taipei</td>\n",
       "      <td>7</td>\n",
       "      <td>NaN</td>\n",
       "      <td>8</td>\n",
       "      <td>3</td>\n",
       "    </tr>\n",
       "    <tr>\n",
       "      <th>905</th>\n",
       "      <td>Taipei</td>\n",
       "      <td>7</td>\n",
       "      <td>NaN</td>\n",
       "      <td>8</td>\n",
       "      <td>3</td>\n",
       "    </tr>\n",
       "    <tr>\n",
       "      <th>906</th>\n",
       "      <td>Taipei</td>\n",
       "      <td>7</td>\n",
       "      <td>NaN</td>\n",
       "      <td>8</td>\n",
       "      <td>4</td>\n",
       "    </tr>\n",
       "    <tr>\n",
       "      <th>907</th>\n",
       "      <td>Taipei</td>\n",
       "      <td>7</td>\n",
       "      <td>NaN</td>\n",
       "      <td>10</td>\n",
       "      <td>4</td>\n",
       "    </tr>\n",
       "    <tr>\n",
       "      <th>908</th>\n",
       "      <td>Taipei</td>\n",
       "      <td>7</td>\n",
       "      <td>NaN</td>\n",
       "      <td>8</td>\n",
       "      <td>3</td>\n",
       "    </tr>\n",
       "    <tr>\n",
       "      <th>909</th>\n",
       "      <td>Taipei</td>\n",
       "      <td>7</td>\n",
       "      <td>NaN</td>\n",
       "      <td>8</td>\n",
       "      <td>3</td>\n",
       "    </tr>\n",
       "    <tr>\n",
       "      <th>910</th>\n",
       "      <td>Taipei</td>\n",
       "      <td>7</td>\n",
       "      <td>NaN</td>\n",
       "      <td>10</td>\n",
       "      <td>3</td>\n",
       "    </tr>\n",
       "    <tr>\n",
       "      <th>911</th>\n",
       "      <td>Taipei</td>\n",
       "      <td>7</td>\n",
       "      <td>NaN</td>\n",
       "      <td>10</td>\n",
       "      <td>3</td>\n",
       "    </tr>\n",
       "    <tr>\n",
       "      <th>912</th>\n",
       "      <td>Taipei</td>\n",
       "      <td>7</td>\n",
       "      <td>NaN</td>\n",
       "      <td>10</td>\n",
       "      <td>3</td>\n",
       "    </tr>\n",
       "    <tr>\n",
       "      <th>913</th>\n",
       "      <td>Taipei</td>\n",
       "      <td>7</td>\n",
       "      <td>NaN</td>\n",
       "      <td>6</td>\n",
       "      <td>3</td>\n",
       "    </tr>\n",
       "    <tr>\n",
       "      <th>914</th>\n",
       "      <td>Tokyo</td>\n",
       "      <td>6</td>\n",
       "      <td>NaN</td>\n",
       "      <td>6</td>\n",
       "      <td>4</td>\n",
       "    </tr>\n",
       "    <tr>\n",
       "      <th>915</th>\n",
       "      <td>Tokyo</td>\n",
       "      <td>6</td>\n",
       "      <td>NaN</td>\n",
       "      <td>8</td>\n",
       "      <td>3</td>\n",
       "    </tr>\n",
       "    <tr>\n",
       "      <th>916</th>\n",
       "      <td>Tokyo</td>\n",
       "      <td>6</td>\n",
       "      <td>NaN</td>\n",
       "      <td>8</td>\n",
       "      <td>1</td>\n",
       "    </tr>\n",
       "    <tr>\n",
       "      <th>917</th>\n",
       "      <td>Tokyo</td>\n",
       "      <td>6</td>\n",
       "      <td>NaN</td>\n",
       "      <td>8</td>\n",
       "      <td>2</td>\n",
       "    </tr>\n",
       "    <tr>\n",
       "      <th>918</th>\n",
       "      <td>Tokyo</td>\n",
       "      <td>6</td>\n",
       "      <td>NaN</td>\n",
       "      <td>10</td>\n",
       "      <td>4</td>\n",
       "    </tr>\n",
       "    <tr>\n",
       "      <th>919</th>\n",
       "      <td>Tokyo</td>\n",
       "      <td>6</td>\n",
       "      <td>NaN</td>\n",
       "      <td>6</td>\n",
       "      <td>3</td>\n",
       "    </tr>\n",
       "    <tr>\n",
       "      <th>920</th>\n",
       "      <td>Tokyo</td>\n",
       "      <td>6</td>\n",
       "      <td>NaN</td>\n",
       "      <td>10</td>\n",
       "      <td>5</td>\n",
       "    </tr>\n",
       "    <tr>\n",
       "      <th>921</th>\n",
       "      <td>Tokyo</td>\n",
       "      <td>6</td>\n",
       "      <td>NaN</td>\n",
       "      <td>8</td>\n",
       "      <td>2</td>\n",
       "    </tr>\n",
       "    <tr>\n",
       "      <th>922</th>\n",
       "      <td>Tokyo</td>\n",
       "      <td>6</td>\n",
       "      <td>NaN</td>\n",
       "      <td>6</td>\n",
       "      <td>4</td>\n",
       "    </tr>\n",
       "    <tr>\n",
       "      <th>923</th>\n",
       "      <td>Tokyo</td>\n",
       "      <td>6</td>\n",
       "      <td>NaN</td>\n",
       "      <td>10</td>\n",
       "      <td>3</td>\n",
       "    </tr>\n",
       "    <tr>\n",
       "      <th>924</th>\n",
       "      <td>Tokyo</td>\n",
       "      <td>6</td>\n",
       "      <td>NaN</td>\n",
       "      <td>10</td>\n",
       "      <td>3</td>\n",
       "    </tr>\n",
       "    <tr>\n",
       "      <th>925</th>\n",
       "      <td>Tokyo</td>\n",
       "      <td>6</td>\n",
       "      <td>NaN</td>\n",
       "      <td>8</td>\n",
       "      <td>4</td>\n",
       "    </tr>\n",
       "    <tr>\n",
       "      <th>926</th>\n",
       "      <td>Tokyo</td>\n",
       "      <td>6</td>\n",
       "      <td>NaN</td>\n",
       "      <td>8</td>\n",
       "      <td>3</td>\n",
       "    </tr>\n",
       "  </tbody>\n",
       "</table>\n",
       "<p>926 rows × 5 columns</p>\n",
       "</div>"
      ],
      "text/plain": [
       "    Location  Week  Track  Recommend  Pacing\n",
       "0         LA     1    NaN          6       4\n",
       "1         LA     1    NaN          8       4\n",
       "2         LA     1    NaN          8       4\n",
       "3         LA     1    NaN          8       4\n",
       "4         LA     1    NaN          8       5\n",
       "5         LA     1    NaN         10       4\n",
       "6         LA     1    NaN         10       3\n",
       "7         LA     2    NaN          8       2\n",
       "8         LA     2    NaN          6       3\n",
       "9         LA     2    NaN          8       4\n",
       "10        LA     2    NaN          8       3\n",
       "11        LA     2    NaN          8       3\n",
       "12        LA     2    NaN         10       3\n",
       "13        LA     2    NaN         10       3\n",
       "14        LA     3    NaN          8       2\n",
       "15        LA     3    NaN          8       4\n",
       "16        LA     3    NaN          8       3\n",
       "17        LA     3    NaN          8       3\n",
       "18        LA     3    NaN          8       3\n",
       "19        LA     3    NaN         10       4\n",
       "20        LA     4    NaN         10       3\n",
       "21        LA     4    NaN         10       3\n",
       "22        LA     4    NaN         10       3\n",
       "23        LA     4    NaN         10       4\n",
       "24        LA     4    NaN          6       3\n",
       "25        LA     4    NaN          8       3\n",
       "26        LA     4    NaN          8       3\n",
       "27        LA     4    NaN          8       3\n",
       "28        LA     5  Games          6       2\n",
       "29        LA     5  Intro          8       3\n",
       "..       ...   ...    ...        ...     ...\n",
       "897   Taipei     6    NaN          6       4\n",
       "898   Taipei     6    NaN          6       3\n",
       "899   Taipei     6    NaN         10       2\n",
       "900   Taipei     6    NaN          8       4\n",
       "901   Taipei     6    NaN         10       4\n",
       "902   Taipei     6    NaN         10       3\n",
       "903   Taipei     7    NaN          6       3\n",
       "904   Taipei     7    NaN          8       3\n",
       "905   Taipei     7    NaN          8       3\n",
       "906   Taipei     7    NaN          8       4\n",
       "907   Taipei     7    NaN         10       4\n",
       "908   Taipei     7    NaN          8       3\n",
       "909   Taipei     7    NaN          8       3\n",
       "910   Taipei     7    NaN         10       3\n",
       "911   Taipei     7    NaN         10       3\n",
       "912   Taipei     7    NaN         10       3\n",
       "913   Taipei     7    NaN          6       3\n",
       "914    Tokyo     6    NaN          6       4\n",
       "915    Tokyo     6    NaN          8       3\n",
       "916    Tokyo     6    NaN          8       1\n",
       "917    Tokyo     6    NaN          8       2\n",
       "918    Tokyo     6    NaN         10       4\n",
       "919    Tokyo     6    NaN          6       3\n",
       "920    Tokyo     6    NaN         10       5\n",
       "921    Tokyo     6    NaN          8       2\n",
       "922    Tokyo     6    NaN          6       4\n",
       "923    Tokyo     6    NaN         10       3\n",
       "924    Tokyo     6    NaN         10       3\n",
       "925    Tokyo     6    NaN          8       4\n",
       "926    Tokyo     6    NaN          8       3\n",
       "\n",
       "[926 rows x 5 columns]"
      ]
     },
     "execution_count": 8,
     "metadata": {},
     "output_type": "execute_result"
    }
   ],
   "source": [
    "df.rename(columns = {'What track are you in?':'Track', 'Overall Satisfaction':'Recommend'}, inplace = True)\n",
    "df"
   ]
  },
  {
   "cell_type": "markdown",
   "metadata": {},
   "source": [
    "# Reading and Cleaning Week 8"
   ]
  },
  {
   "cell_type": "code",
   "execution_count": 9,
   "metadata": {},
   "outputs": [
    {
     "data": {
      "text/html": [
       "<div>\n",
       "<style scoped>\n",
       "    .dataframe tbody tr th:only-of-type {\n",
       "        vertical-align: middle;\n",
       "    }\n",
       "\n",
       "    .dataframe tbody tr th {\n",
       "        vertical-align: top;\n",
       "    }\n",
       "\n",
       "    .dataframe thead th {\n",
       "        text-align: right;\n",
       "    }\n",
       "</style>\n",
       "<table border=\"1\" class=\"dataframe\">\n",
       "  <thead>\n",
       "    <tr style=\"text-align: right;\">\n",
       "      <th></th>\n",
       "      <th>#</th>\n",
       "      <th>How likely is it that you would recommend the Make School Summer Academy to a friend?</th>\n",
       "      <th>location</th>\n",
       "      <th>track</th>\n",
       "      <th>Start Date (UTC)</th>\n",
       "      <th>Submit Date (UTC)</th>\n",
       "      <th>Network ID</th>\n",
       "    </tr>\n",
       "  </thead>\n",
       "  <tbody>\n",
       "    <tr>\n",
       "      <th>0</th>\n",
       "      <td>00b836bda84e6bdbe780af97e249e59f</td>\n",
       "      <td>10</td>\n",
       "      <td>New York</td>\n",
       "      <td>summerApps</td>\n",
       "      <td>9/7/16 1:03</td>\n",
       "      <td>9/7/16 1:04</td>\n",
       "      <td>3212b7a834</td>\n",
       "    </tr>\n",
       "    <tr>\n",
       "      <th>1</th>\n",
       "      <td>39dde6dc0e1e375845d756fc7e39fc5f</td>\n",
       "      <td>10</td>\n",
       "      <td>San Francisco</td>\n",
       "      <td>summerIntro</td>\n",
       "      <td>9/7/16 1:03</td>\n",
       "      <td>9/7/16 1:04</td>\n",
       "      <td>f4954355aa</td>\n",
       "    </tr>\n",
       "    <tr>\n",
       "      <th>2</th>\n",
       "      <td>5e56b9de91670b308cb98dd2848b8739</td>\n",
       "      <td>10</td>\n",
       "      <td>New York</td>\n",
       "      <td>summerIntro</td>\n",
       "      <td>9/7/16 1:03</td>\n",
       "      <td>9/7/16 1:05</td>\n",
       "      <td>3d69ca289b</td>\n",
       "    </tr>\n",
       "    <tr>\n",
       "      <th>3</th>\n",
       "      <td>641081d05785b47a0f17448625da0d49</td>\n",
       "      <td>9</td>\n",
       "      <td>Sunnyvale</td>\n",
       "      <td>summerApps (4-week)</td>\n",
       "      <td>9/7/16 1:04</td>\n",
       "      <td>9/7/16 1:06</td>\n",
       "      <td>261608f95d</td>\n",
       "    </tr>\n",
       "    <tr>\n",
       "      <th>4</th>\n",
       "      <td>c29bdd4f5678d78b450f4494e0f53c8c</td>\n",
       "      <td>3</td>\n",
       "      <td>San Francisco</td>\n",
       "      <td>summerIntro</td>\n",
       "      <td>9/7/16 1:04</td>\n",
       "      <td>9/7/16 1:11</td>\n",
       "      <td>d6672ddf6f</td>\n",
       "    </tr>\n",
       "    <tr>\n",
       "      <th>5</th>\n",
       "      <td>9030d8a662b39b519b2b685834413d66</td>\n",
       "      <td>10</td>\n",
       "      <td>San Francisco</td>\n",
       "      <td>summerApps</td>\n",
       "      <td>9/7/16 1:09</td>\n",
       "      <td>9/7/16 1:13</td>\n",
       "      <td>088e6f938d</td>\n",
       "    </tr>\n",
       "    <tr>\n",
       "      <th>6</th>\n",
       "      <td>1c07190c7caa72bf6b59cea48e1a4a97</td>\n",
       "      <td>8</td>\n",
       "      <td>San Francisco</td>\n",
       "      <td>summerApps</td>\n",
       "      <td>9/7/16 1:04</td>\n",
       "      <td>9/7/16 1:14</td>\n",
       "      <td>00f1d07a90</td>\n",
       "    </tr>\n",
       "    <tr>\n",
       "      <th>7</th>\n",
       "      <td>27a63d6c24710feb52c0cfdef7e01175</td>\n",
       "      <td>3</td>\n",
       "      <td>New York</td>\n",
       "      <td>summerGames</td>\n",
       "      <td>9/7/16 1:14</td>\n",
       "      <td>9/7/16 1:15</td>\n",
       "      <td>e0724aac23</td>\n",
       "    </tr>\n",
       "    <tr>\n",
       "      <th>8</th>\n",
       "      <td>b47b95f84547d8347119de1da5faa46d</td>\n",
       "      <td>6</td>\n",
       "      <td>Singapore</td>\n",
       "      <td>summerApps</td>\n",
       "      <td>9/7/16 1:16</td>\n",
       "      <td>9/7/16 1:21</td>\n",
       "      <td>9eeec0f9bf</td>\n",
       "    </tr>\n",
       "    <tr>\n",
       "      <th>9</th>\n",
       "      <td>828fafa477484f61d2ca5930fe99ad46</td>\n",
       "      <td>9</td>\n",
       "      <td>New York</td>\n",
       "      <td>summerGames</td>\n",
       "      <td>9/7/16 1:22</td>\n",
       "      <td>9/7/16 1:27</td>\n",
       "      <td>6c80fd2754</td>\n",
       "    </tr>\n",
       "    <tr>\n",
       "      <th>10</th>\n",
       "      <td>7d70f1e30217d867f3c0f961462d8ae8</td>\n",
       "      <td>10</td>\n",
       "      <td>Sunnyvale</td>\n",
       "      <td>summerGames</td>\n",
       "      <td>9/7/16 1:28</td>\n",
       "      <td>9/7/16 1:29</td>\n",
       "      <td>6c04cd1a6e</td>\n",
       "    </tr>\n",
       "    <tr>\n",
       "      <th>11</th>\n",
       "      <td>65bd071ab808290560e7d11c09f56796</td>\n",
       "      <td>10</td>\n",
       "      <td>San Francisco</td>\n",
       "      <td>summerVR</td>\n",
       "      <td>9/7/16 1:22</td>\n",
       "      <td>9/7/16 1:33</td>\n",
       "      <td>82eadbe830</td>\n",
       "    </tr>\n",
       "    <tr>\n",
       "      <th>12</th>\n",
       "      <td>d66976d012b4c8a5c708f1a438605488</td>\n",
       "      <td>8</td>\n",
       "      <td>San Francisco</td>\n",
       "      <td>summerIntro</td>\n",
       "      <td>9/7/16 1:30</td>\n",
       "      <td>9/7/16 1:36</td>\n",
       "      <td>ccea45b0f4</td>\n",
       "    </tr>\n",
       "    <tr>\n",
       "      <th>13</th>\n",
       "      <td>9db748a8e0d5789cb3a5fcb27fc59083</td>\n",
       "      <td>8</td>\n",
       "      <td>Sunnyvale</td>\n",
       "      <td>summerApps</td>\n",
       "      <td>9/7/16 1:47</td>\n",
       "      <td>9/7/16 1:50</td>\n",
       "      <td>9e894113e2</td>\n",
       "    </tr>\n",
       "    <tr>\n",
       "      <th>14</th>\n",
       "      <td>5ee2a5d8e87fd5790906f7b004963e14</td>\n",
       "      <td>8</td>\n",
       "      <td>Los Angeles</td>\n",
       "      <td>summerGames</td>\n",
       "      <td>9/7/16 1:34</td>\n",
       "      <td>9/7/16 1:51</td>\n",
       "      <td>7a61b16f29</td>\n",
       "    </tr>\n",
       "    <tr>\n",
       "      <th>15</th>\n",
       "      <td>9826290f1bf2fd4c105857e2af933ffe</td>\n",
       "      <td>10</td>\n",
       "      <td>San Francisco</td>\n",
       "      <td>summerApps</td>\n",
       "      <td>9/7/16 2:28</td>\n",
       "      <td>9/7/16 2:33</td>\n",
       "      <td>55641e8ccb</td>\n",
       "    </tr>\n",
       "    <tr>\n",
       "      <th>16</th>\n",
       "      <td>ea85e7c699751b5993776ef16db0b1d9</td>\n",
       "      <td>9</td>\n",
       "      <td>Sunnyvale</td>\n",
       "      <td>summerGames</td>\n",
       "      <td>9/7/16 2:39</td>\n",
       "      <td>9/7/16 2:41</td>\n",
       "      <td>125a8466ea</td>\n",
       "    </tr>\n",
       "    <tr>\n",
       "      <th>17</th>\n",
       "      <td>58cb61ce774b116d87e3888d4c1babf1</td>\n",
       "      <td>10</td>\n",
       "      <td>New York</td>\n",
       "      <td>summerGames</td>\n",
       "      <td>9/7/16 2:39</td>\n",
       "      <td>9/7/16 2:43</td>\n",
       "      <td>9f88839991</td>\n",
       "    </tr>\n",
       "    <tr>\n",
       "      <th>18</th>\n",
       "      <td>a08ef61cfa87d1ba00c691de4a55f4c2</td>\n",
       "      <td>7</td>\n",
       "      <td>Singapore</td>\n",
       "      <td>summerApps</td>\n",
       "      <td>9/7/16 2:47</td>\n",
       "      <td>9/7/16 2:50</td>\n",
       "      <td>bd06f31b2a</td>\n",
       "    </tr>\n",
       "    <tr>\n",
       "      <th>19</th>\n",
       "      <td>630fd265cdb8308b60b4b59351690f0a</td>\n",
       "      <td>10</td>\n",
       "      <td>San Francisco</td>\n",
       "      <td>summerIntro</td>\n",
       "      <td>9/7/16 2:56</td>\n",
       "      <td>9/7/16 2:56</td>\n",
       "      <td>7f24478045</td>\n",
       "    </tr>\n",
       "    <tr>\n",
       "      <th>20</th>\n",
       "      <td>2f7303a7ac0943b341d02678b085688e</td>\n",
       "      <td>10</td>\n",
       "      <td>San Francisco</td>\n",
       "      <td>summerApps</td>\n",
       "      <td>9/7/16 2:58</td>\n",
       "      <td>9/7/16 2:59</td>\n",
       "      <td>32fdf4fca0</td>\n",
       "    </tr>\n",
       "    <tr>\n",
       "      <th>21</th>\n",
       "      <td>785568c94d73aa0fad4493ee79fa3974</td>\n",
       "      <td>10</td>\n",
       "      <td>Sunnyvale</td>\n",
       "      <td>summerGames</td>\n",
       "      <td>9/7/16 2:59</td>\n",
       "      <td>9/7/16 3:01</td>\n",
       "      <td>ffbbd84b0e</td>\n",
       "    </tr>\n",
       "    <tr>\n",
       "      <th>22</th>\n",
       "      <td>fe02b118aea0ef15ccd06e6f7e6209f4</td>\n",
       "      <td>4</td>\n",
       "      <td>New York</td>\n",
       "      <td>summerIntro</td>\n",
       "      <td>9/7/16 3:05</td>\n",
       "      <td>9/7/16 3:08</td>\n",
       "      <td>9dbeedfbf5</td>\n",
       "    </tr>\n",
       "    <tr>\n",
       "      <th>23</th>\n",
       "      <td>6e2c750a71613e3fd7d5f425320cc750</td>\n",
       "      <td>9</td>\n",
       "      <td>San Francisco</td>\n",
       "      <td>summerGames</td>\n",
       "      <td>9/7/16 3:22</td>\n",
       "      <td>9/7/16 3:31</td>\n",
       "      <td>19a8645313</td>\n",
       "    </tr>\n",
       "    <tr>\n",
       "      <th>24</th>\n",
       "      <td>522ff7a7546272c3c98eab026e8c098a</td>\n",
       "      <td>10</td>\n",
       "      <td>Sunnyvale</td>\n",
       "      <td>summerGames</td>\n",
       "      <td>9/7/16 3:15</td>\n",
       "      <td>9/7/16 3:31</td>\n",
       "      <td>42560fe8ea</td>\n",
       "    </tr>\n",
       "    <tr>\n",
       "      <th>25</th>\n",
       "      <td>80fce9f8822690ad581ff8d554e6f629</td>\n",
       "      <td>9</td>\n",
       "      <td>Sunnyvale</td>\n",
       "      <td>summerApps</td>\n",
       "      <td>9/7/16 3:41</td>\n",
       "      <td>9/7/16 3:42</td>\n",
       "      <td>b194ad4477</td>\n",
       "    </tr>\n",
       "    <tr>\n",
       "      <th>26</th>\n",
       "      <td>e78c696358f9c59b0375884ab9217f70</td>\n",
       "      <td>10</td>\n",
       "      <td>San Francisco</td>\n",
       "      <td>summerIntro</td>\n",
       "      <td>9/7/16 4:04</td>\n",
       "      <td>9/7/16 4:05</td>\n",
       "      <td>f8ef38e4e3</td>\n",
       "    </tr>\n",
       "    <tr>\n",
       "      <th>27</th>\n",
       "      <td>4885e461415138a403fb0408a8060094</td>\n",
       "      <td>10</td>\n",
       "      <td>Sunnyvale</td>\n",
       "      <td>summerApps</td>\n",
       "      <td>9/7/16 4:07</td>\n",
       "      <td>9/7/16 4:10</td>\n",
       "      <td>06674df051</td>\n",
       "    </tr>\n",
       "    <tr>\n",
       "      <th>28</th>\n",
       "      <td>bb261d3e5b4fe2197f54f28c416948e1</td>\n",
       "      <td>7</td>\n",
       "      <td>Sunnyvale</td>\n",
       "      <td>summerGames</td>\n",
       "      <td>9/7/16 4:20</td>\n",
       "      <td>9/7/16 4:21</td>\n",
       "      <td>66eb19a8df</td>\n",
       "    </tr>\n",
       "    <tr>\n",
       "      <th>29</th>\n",
       "      <td>391157a49dc832edb535b3c6ee3dd6a0</td>\n",
       "      <td>10</td>\n",
       "      <td>San Francisco</td>\n",
       "      <td>summerGames</td>\n",
       "      <td>9/7/16 5:41</td>\n",
       "      <td>9/7/16 5:43</td>\n",
       "      <td>c94ee250b6</td>\n",
       "    </tr>\n",
       "    <tr>\n",
       "      <th>...</th>\n",
       "      <td>...</td>\n",
       "      <td>...</td>\n",
       "      <td>...</td>\n",
       "      <td>...</td>\n",
       "      <td>...</td>\n",
       "      <td>...</td>\n",
       "      <td>...</td>\n",
       "    </tr>\n",
       "    <tr>\n",
       "      <th>35</th>\n",
       "      <td>fa299e5db39696d38eafd4ae6e71aebb</td>\n",
       "      <td>9</td>\n",
       "      <td>Singapore</td>\n",
       "      <td>summerApps</td>\n",
       "      <td>9/7/16 12:26</td>\n",
       "      <td>9/7/16 12:26</td>\n",
       "      <td>58089eb896</td>\n",
       "    </tr>\n",
       "    <tr>\n",
       "      <th>36</th>\n",
       "      <td>35d559a3756563f795c0e9e81299695e</td>\n",
       "      <td>10</td>\n",
       "      <td>San Francisco</td>\n",
       "      <td>summerApps</td>\n",
       "      <td>9/7/16 12:45</td>\n",
       "      <td>9/7/16 12:48</td>\n",
       "      <td>0b7b124ce3</td>\n",
       "    </tr>\n",
       "    <tr>\n",
       "      <th>37</th>\n",
       "      <td>2a42f27c8a19a165f37439cfd9fed33d</td>\n",
       "      <td>10</td>\n",
       "      <td>New York</td>\n",
       "      <td>summerIntro</td>\n",
       "      <td>9/7/16 13:09</td>\n",
       "      <td>9/7/16 13:10</td>\n",
       "      <td>32c6661877</td>\n",
       "    </tr>\n",
       "    <tr>\n",
       "      <th>38</th>\n",
       "      <td>1e19d356f6f8eac878413ec736e46da8</td>\n",
       "      <td>9</td>\n",
       "      <td>San Francisco</td>\n",
       "      <td>summerApps (4-week)</td>\n",
       "      <td>9/7/16 14:39</td>\n",
       "      <td>9/7/16 14:40</td>\n",
       "      <td>75a5cf3cee</td>\n",
       "    </tr>\n",
       "    <tr>\n",
       "      <th>39</th>\n",
       "      <td>a8497fc472b7a09ac6e16e658851d652</td>\n",
       "      <td>10</td>\n",
       "      <td>New York</td>\n",
       "      <td>summerApps</td>\n",
       "      <td>9/7/16 14:52</td>\n",
       "      <td>9/7/16 14:54</td>\n",
       "      <td>5a977a012b</td>\n",
       "    </tr>\n",
       "    <tr>\n",
       "      <th>40</th>\n",
       "      <td>3208a7393ff3fd3c67fae17c8e48db37</td>\n",
       "      <td>8</td>\n",
       "      <td>Sunnyvale</td>\n",
       "      <td>summerApps</td>\n",
       "      <td>9/7/16 15:57</td>\n",
       "      <td>9/7/16 15:58</td>\n",
       "      <td>20eafecabd</td>\n",
       "    </tr>\n",
       "    <tr>\n",
       "      <th>41</th>\n",
       "      <td>45d7a66a67ee79f5c9ffa6d6abb1b307</td>\n",
       "      <td>10</td>\n",
       "      <td>San Francisco</td>\n",
       "      <td>summerApps</td>\n",
       "      <td>9/7/16 17:11</td>\n",
       "      <td>9/7/16 17:21</td>\n",
       "      <td>e474841bba</td>\n",
       "    </tr>\n",
       "    <tr>\n",
       "      <th>42</th>\n",
       "      <td>964e2d8e91a04b8735e73aafedb54541</td>\n",
       "      <td>9</td>\n",
       "      <td>San Francisco</td>\n",
       "      <td>summerVR</td>\n",
       "      <td>9/7/16 19:13</td>\n",
       "      <td>9/7/16 19:25</td>\n",
       "      <td>ae112590e9</td>\n",
       "    </tr>\n",
       "    <tr>\n",
       "      <th>43</th>\n",
       "      <td>e8780f8e3d0026549c276135fd9569ef</td>\n",
       "      <td>7</td>\n",
       "      <td>New York</td>\n",
       "      <td>summerApps (4-week)</td>\n",
       "      <td>9/7/16 19:23</td>\n",
       "      <td>9/7/16 19:26</td>\n",
       "      <td>a578e4964d</td>\n",
       "    </tr>\n",
       "    <tr>\n",
       "      <th>44</th>\n",
       "      <td>864ff3fc8e19d27f3d4c46eb4b304d35</td>\n",
       "      <td>10</td>\n",
       "      <td>San Francisco</td>\n",
       "      <td>summerApps</td>\n",
       "      <td>9/7/16 19:39</td>\n",
       "      <td>9/7/16 19:40</td>\n",
       "      <td>573a652ffb</td>\n",
       "    </tr>\n",
       "    <tr>\n",
       "      <th>45</th>\n",
       "      <td>c2bc67325eb91085f3686aabf309d801</td>\n",
       "      <td>10</td>\n",
       "      <td>Los Angeles</td>\n",
       "      <td>summerGames</td>\n",
       "      <td>9/7/16 19:51</td>\n",
       "      <td>9/7/16 19:57</td>\n",
       "      <td>cadcc3e368</td>\n",
       "    </tr>\n",
       "    <tr>\n",
       "      <th>46</th>\n",
       "      <td>fd802ce8e43aa9deade38c108298dbaf</td>\n",
       "      <td>10</td>\n",
       "      <td>Sunnyvale</td>\n",
       "      <td>summerIntro</td>\n",
       "      <td>9/7/16 23:58</td>\n",
       "      <td>9/8/16 0:00</td>\n",
       "      <td>9ba33ad0f9</td>\n",
       "    </tr>\n",
       "    <tr>\n",
       "      <th>47</th>\n",
       "      <td>ac671896bf86167dc073c3f52131fe70</td>\n",
       "      <td>8</td>\n",
       "      <td>New York</td>\n",
       "      <td>summerApps</td>\n",
       "      <td>9/8/16 0:50</td>\n",
       "      <td>9/8/16 0:58</td>\n",
       "      <td>1b349a7cce</td>\n",
       "    </tr>\n",
       "    <tr>\n",
       "      <th>48</th>\n",
       "      <td>143652af47062192767081ff1dd630cc</td>\n",
       "      <td>10</td>\n",
       "      <td>San Francisco</td>\n",
       "      <td>summerGames</td>\n",
       "      <td>9/8/16 1:55</td>\n",
       "      <td>9/8/16 1:59</td>\n",
       "      <td>94f319072c</td>\n",
       "    </tr>\n",
       "    <tr>\n",
       "      <th>49</th>\n",
       "      <td>f4a5aed1cad9367cc58744706de54a1b</td>\n",
       "      <td>7</td>\n",
       "      <td>Sunnyvale</td>\n",
       "      <td>summerApps</td>\n",
       "      <td>9/8/16 5:59</td>\n",
       "      <td>9/8/16 6:04</td>\n",
       "      <td>9f09067d6a</td>\n",
       "    </tr>\n",
       "    <tr>\n",
       "      <th>50</th>\n",
       "      <td>3c3495614eada68b5fa8e19377e1cccd</td>\n",
       "      <td>10</td>\n",
       "      <td>Los Angeles</td>\n",
       "      <td>summerGames (4-week)</td>\n",
       "      <td>9/8/16 14:25</td>\n",
       "      <td>9/8/16 14:27</td>\n",
       "      <td>89b8894183</td>\n",
       "    </tr>\n",
       "    <tr>\n",
       "      <th>51</th>\n",
       "      <td>8e2309e3a1ba2a5630ea251b96712a9a</td>\n",
       "      <td>8</td>\n",
       "      <td>San Francisco</td>\n",
       "      <td>summerGames</td>\n",
       "      <td>9/8/16 22:00</td>\n",
       "      <td>9/8/16 22:06</td>\n",
       "      <td>01074776b4</td>\n",
       "    </tr>\n",
       "    <tr>\n",
       "      <th>52</th>\n",
       "      <td>44db66e47441ecd2c88dbe5dd3a38e1e</td>\n",
       "      <td>8</td>\n",
       "      <td>New York</td>\n",
       "      <td>summerApps</td>\n",
       "      <td>9/8/16 22:16</td>\n",
       "      <td>9/8/16 22:20</td>\n",
       "      <td>11c95dc87f</td>\n",
       "    </tr>\n",
       "    <tr>\n",
       "      <th>53</th>\n",
       "      <td>80f3d539b648cfaf92b45699e7a0545b</td>\n",
       "      <td>10</td>\n",
       "      <td>San Francisco</td>\n",
       "      <td>summerApps</td>\n",
       "      <td>9/8/16 23:06</td>\n",
       "      <td>9/8/16 23:07</td>\n",
       "      <td>0d6873c5ed</td>\n",
       "    </tr>\n",
       "    <tr>\n",
       "      <th>54</th>\n",
       "      <td>60343ca18c43feedab8481e25421484d</td>\n",
       "      <td>7</td>\n",
       "      <td>San Francisco</td>\n",
       "      <td>summerApps</td>\n",
       "      <td>9/8/16 23:01</td>\n",
       "      <td>9/8/16 23:11</td>\n",
       "      <td>8a13f23e89</td>\n",
       "    </tr>\n",
       "    <tr>\n",
       "      <th>55</th>\n",
       "      <td>5c99e0aac4efe9eecffd83e50ec7c8db</td>\n",
       "      <td>7</td>\n",
       "      <td>San Francisco</td>\n",
       "      <td>summerIntro</td>\n",
       "      <td>9/9/16 1:41</td>\n",
       "      <td>9/9/16 1:42</td>\n",
       "      <td>830f174273</td>\n",
       "    </tr>\n",
       "    <tr>\n",
       "      <th>56</th>\n",
       "      <td>022d99be229f86182ca1c2bc49aa2e09</td>\n",
       "      <td>10</td>\n",
       "      <td>San Francisco</td>\n",
       "      <td>summerIntro</td>\n",
       "      <td>9/9/16 4:22</td>\n",
       "      <td>9/9/16 4:25</td>\n",
       "      <td>9fc69673bd</td>\n",
       "    </tr>\n",
       "    <tr>\n",
       "      <th>57</th>\n",
       "      <td>5a83e1056e30a8596056bec5c050a86d</td>\n",
       "      <td>9</td>\n",
       "      <td>San Francisco</td>\n",
       "      <td>summerApps</td>\n",
       "      <td>9/9/16 11:06</td>\n",
       "      <td>9/9/16 11:09</td>\n",
       "      <td>6d5dece18c</td>\n",
       "    </tr>\n",
       "    <tr>\n",
       "      <th>58</th>\n",
       "      <td>50f1c0545d9cef1c10be657e1083990d</td>\n",
       "      <td>10</td>\n",
       "      <td>New York</td>\n",
       "      <td>summerGames</td>\n",
       "      <td>9/9/16 13:24</td>\n",
       "      <td>9/9/16 13:28</td>\n",
       "      <td>f7f5617754</td>\n",
       "    </tr>\n",
       "    <tr>\n",
       "      <th>59</th>\n",
       "      <td>22ac2ab300a76178ce53104d03408c8a</td>\n",
       "      <td>8</td>\n",
       "      <td>San Francisco</td>\n",
       "      <td>summerGames</td>\n",
       "      <td>9/10/16 22:28</td>\n",
       "      <td>9/10/16 22:30</td>\n",
       "      <td>9500d5b989</td>\n",
       "    </tr>\n",
       "    <tr>\n",
       "      <th>60</th>\n",
       "      <td>2d487d890a68bbdb70dd027bc1e501bb</td>\n",
       "      <td>9</td>\n",
       "      <td>San Francisco</td>\n",
       "      <td>summerApps</td>\n",
       "      <td>9/12/16 0:05</td>\n",
       "      <td>9/12/16 0:13</td>\n",
       "      <td>fe650b21f7</td>\n",
       "    </tr>\n",
       "    <tr>\n",
       "      <th>61</th>\n",
       "      <td>0cdf8eced1b8791ae536797c75751b25</td>\n",
       "      <td>5</td>\n",
       "      <td>San Francisco</td>\n",
       "      <td>summerVR</td>\n",
       "      <td>9/13/16 4:36</td>\n",
       "      <td>9/13/16 4:42</td>\n",
       "      <td>a7deda5bf5</td>\n",
       "    </tr>\n",
       "    <tr>\n",
       "      <th>62</th>\n",
       "      <td>d353c2cdff6bcf3e932579a5647d511a</td>\n",
       "      <td>10</td>\n",
       "      <td>San Francisco</td>\n",
       "      <td>summerGames (4-week)</td>\n",
       "      <td>9/7/16 5:08</td>\n",
       "      <td>9/13/16 20:13</td>\n",
       "      <td>a3e21d76e3</td>\n",
       "    </tr>\n",
       "    <tr>\n",
       "      <th>63</th>\n",
       "      <td>f5716831fe432cef5da980038f2f8969</td>\n",
       "      <td>9</td>\n",
       "      <td>San Francisco</td>\n",
       "      <td>summerIntro</td>\n",
       "      <td>9/14/16 12:04</td>\n",
       "      <td>9/14/16 12:10</td>\n",
       "      <td>843b902fa2</td>\n",
       "    </tr>\n",
       "    <tr>\n",
       "      <th>64</th>\n",
       "      <td>951e9361c4da1756ae1c6fb2612cb9dd</td>\n",
       "      <td>9</td>\n",
       "      <td>Sunnyvale</td>\n",
       "      <td>summerGames</td>\n",
       "      <td>9/26/16 16:33</td>\n",
       "      <td>9/26/16 16:34</td>\n",
       "      <td>a2863e199d</td>\n",
       "    </tr>\n",
       "  </tbody>\n",
       "</table>\n",
       "<p>65 rows × 7 columns</p>\n",
       "</div>"
      ],
      "text/plain": [
       "                                   #  \\\n",
       "0   00b836bda84e6bdbe780af97e249e59f   \n",
       "1   39dde6dc0e1e375845d756fc7e39fc5f   \n",
       "2   5e56b9de91670b308cb98dd2848b8739   \n",
       "3   641081d05785b47a0f17448625da0d49   \n",
       "4   c29bdd4f5678d78b450f4494e0f53c8c   \n",
       "5   9030d8a662b39b519b2b685834413d66   \n",
       "6   1c07190c7caa72bf6b59cea48e1a4a97   \n",
       "7   27a63d6c24710feb52c0cfdef7e01175   \n",
       "8   b47b95f84547d8347119de1da5faa46d   \n",
       "9   828fafa477484f61d2ca5930fe99ad46   \n",
       "10  7d70f1e30217d867f3c0f961462d8ae8   \n",
       "11  65bd071ab808290560e7d11c09f56796   \n",
       "12  d66976d012b4c8a5c708f1a438605488   \n",
       "13  9db748a8e0d5789cb3a5fcb27fc59083   \n",
       "14  5ee2a5d8e87fd5790906f7b004963e14   \n",
       "15  9826290f1bf2fd4c105857e2af933ffe   \n",
       "16  ea85e7c699751b5993776ef16db0b1d9   \n",
       "17  58cb61ce774b116d87e3888d4c1babf1   \n",
       "18  a08ef61cfa87d1ba00c691de4a55f4c2   \n",
       "19  630fd265cdb8308b60b4b59351690f0a   \n",
       "20  2f7303a7ac0943b341d02678b085688e   \n",
       "21  785568c94d73aa0fad4493ee79fa3974   \n",
       "22  fe02b118aea0ef15ccd06e6f7e6209f4   \n",
       "23  6e2c750a71613e3fd7d5f425320cc750   \n",
       "24  522ff7a7546272c3c98eab026e8c098a   \n",
       "25  80fce9f8822690ad581ff8d554e6f629   \n",
       "26  e78c696358f9c59b0375884ab9217f70   \n",
       "27  4885e461415138a403fb0408a8060094   \n",
       "28  bb261d3e5b4fe2197f54f28c416948e1   \n",
       "29  391157a49dc832edb535b3c6ee3dd6a0   \n",
       "..                               ...   \n",
       "35  fa299e5db39696d38eafd4ae6e71aebb   \n",
       "36  35d559a3756563f795c0e9e81299695e   \n",
       "37  2a42f27c8a19a165f37439cfd9fed33d   \n",
       "38  1e19d356f6f8eac878413ec736e46da8   \n",
       "39  a8497fc472b7a09ac6e16e658851d652   \n",
       "40  3208a7393ff3fd3c67fae17c8e48db37   \n",
       "41  45d7a66a67ee79f5c9ffa6d6abb1b307   \n",
       "42  964e2d8e91a04b8735e73aafedb54541   \n",
       "43  e8780f8e3d0026549c276135fd9569ef   \n",
       "44  864ff3fc8e19d27f3d4c46eb4b304d35   \n",
       "45  c2bc67325eb91085f3686aabf309d801   \n",
       "46  fd802ce8e43aa9deade38c108298dbaf   \n",
       "47  ac671896bf86167dc073c3f52131fe70   \n",
       "48  143652af47062192767081ff1dd630cc   \n",
       "49  f4a5aed1cad9367cc58744706de54a1b   \n",
       "50  3c3495614eada68b5fa8e19377e1cccd   \n",
       "51  8e2309e3a1ba2a5630ea251b96712a9a   \n",
       "52  44db66e47441ecd2c88dbe5dd3a38e1e   \n",
       "53  80f3d539b648cfaf92b45699e7a0545b   \n",
       "54  60343ca18c43feedab8481e25421484d   \n",
       "55  5c99e0aac4efe9eecffd83e50ec7c8db   \n",
       "56  022d99be229f86182ca1c2bc49aa2e09   \n",
       "57  5a83e1056e30a8596056bec5c050a86d   \n",
       "58  50f1c0545d9cef1c10be657e1083990d   \n",
       "59  22ac2ab300a76178ce53104d03408c8a   \n",
       "60  2d487d890a68bbdb70dd027bc1e501bb   \n",
       "61  0cdf8eced1b8791ae536797c75751b25   \n",
       "62  d353c2cdff6bcf3e932579a5647d511a   \n",
       "63  f5716831fe432cef5da980038f2f8969   \n",
       "64  951e9361c4da1756ae1c6fb2612cb9dd   \n",
       "\n",
       "    How likely is it that you would recommend the Make School Summer Academy to a friend?  \\\n",
       "0                                                  10                                       \n",
       "1                                                  10                                       \n",
       "2                                                  10                                       \n",
       "3                                                   9                                       \n",
       "4                                                   3                                       \n",
       "5                                                  10                                       \n",
       "6                                                   8                                       \n",
       "7                                                   3                                       \n",
       "8                                                   6                                       \n",
       "9                                                   9                                       \n",
       "10                                                 10                                       \n",
       "11                                                 10                                       \n",
       "12                                                  8                                       \n",
       "13                                                  8                                       \n",
       "14                                                  8                                       \n",
       "15                                                 10                                       \n",
       "16                                                  9                                       \n",
       "17                                                 10                                       \n",
       "18                                                  7                                       \n",
       "19                                                 10                                       \n",
       "20                                                 10                                       \n",
       "21                                                 10                                       \n",
       "22                                                  4                                       \n",
       "23                                                  9                                       \n",
       "24                                                 10                                       \n",
       "25                                                  9                                       \n",
       "26                                                 10                                       \n",
       "27                                                 10                                       \n",
       "28                                                  7                                       \n",
       "29                                                 10                                       \n",
       "..                                                ...                                       \n",
       "35                                                  9                                       \n",
       "36                                                 10                                       \n",
       "37                                                 10                                       \n",
       "38                                                  9                                       \n",
       "39                                                 10                                       \n",
       "40                                                  8                                       \n",
       "41                                                 10                                       \n",
       "42                                                  9                                       \n",
       "43                                                  7                                       \n",
       "44                                                 10                                       \n",
       "45                                                 10                                       \n",
       "46                                                 10                                       \n",
       "47                                                  8                                       \n",
       "48                                                 10                                       \n",
       "49                                                  7                                       \n",
       "50                                                 10                                       \n",
       "51                                                  8                                       \n",
       "52                                                  8                                       \n",
       "53                                                 10                                       \n",
       "54                                                  7                                       \n",
       "55                                                  7                                       \n",
       "56                                                 10                                       \n",
       "57                                                  9                                       \n",
       "58                                                 10                                       \n",
       "59                                                  8                                       \n",
       "60                                                  9                                       \n",
       "61                                                  5                                       \n",
       "62                                                 10                                       \n",
       "63                                                  9                                       \n",
       "64                                                  9                                       \n",
       "\n",
       "         location                 track Start Date (UTC) Submit Date (UTC)  \\\n",
       "0        New York            summerApps      9/7/16 1:03       9/7/16 1:04   \n",
       "1   San Francisco           summerIntro      9/7/16 1:03       9/7/16 1:04   \n",
       "2        New York           summerIntro      9/7/16 1:03       9/7/16 1:05   \n",
       "3       Sunnyvale   summerApps (4-week)      9/7/16 1:04       9/7/16 1:06   \n",
       "4   San Francisco           summerIntro      9/7/16 1:04       9/7/16 1:11   \n",
       "5   San Francisco            summerApps      9/7/16 1:09       9/7/16 1:13   \n",
       "6   San Francisco            summerApps      9/7/16 1:04       9/7/16 1:14   \n",
       "7        New York           summerGames      9/7/16 1:14       9/7/16 1:15   \n",
       "8       Singapore            summerApps      9/7/16 1:16       9/7/16 1:21   \n",
       "9        New York           summerGames      9/7/16 1:22       9/7/16 1:27   \n",
       "10      Sunnyvale           summerGames      9/7/16 1:28       9/7/16 1:29   \n",
       "11  San Francisco              summerVR      9/7/16 1:22       9/7/16 1:33   \n",
       "12  San Francisco           summerIntro      9/7/16 1:30       9/7/16 1:36   \n",
       "13      Sunnyvale            summerApps      9/7/16 1:47       9/7/16 1:50   \n",
       "14    Los Angeles           summerGames      9/7/16 1:34       9/7/16 1:51   \n",
       "15  San Francisco            summerApps      9/7/16 2:28       9/7/16 2:33   \n",
       "16      Sunnyvale           summerGames      9/7/16 2:39       9/7/16 2:41   \n",
       "17       New York           summerGames      9/7/16 2:39       9/7/16 2:43   \n",
       "18      Singapore            summerApps      9/7/16 2:47       9/7/16 2:50   \n",
       "19  San Francisco           summerIntro      9/7/16 2:56       9/7/16 2:56   \n",
       "20  San Francisco            summerApps      9/7/16 2:58       9/7/16 2:59   \n",
       "21      Sunnyvale           summerGames      9/7/16 2:59       9/7/16 3:01   \n",
       "22       New York           summerIntro      9/7/16 3:05       9/7/16 3:08   \n",
       "23  San Francisco           summerGames      9/7/16 3:22       9/7/16 3:31   \n",
       "24      Sunnyvale           summerGames      9/7/16 3:15       9/7/16 3:31   \n",
       "25      Sunnyvale            summerApps      9/7/16 3:41       9/7/16 3:42   \n",
       "26  San Francisco           summerIntro      9/7/16 4:04       9/7/16 4:05   \n",
       "27      Sunnyvale            summerApps      9/7/16 4:07       9/7/16 4:10   \n",
       "28      Sunnyvale           summerGames      9/7/16 4:20       9/7/16 4:21   \n",
       "29  San Francisco           summerGames      9/7/16 5:41       9/7/16 5:43   \n",
       "..            ...                   ...              ...               ...   \n",
       "35      Singapore            summerApps     9/7/16 12:26      9/7/16 12:26   \n",
       "36  San Francisco            summerApps     9/7/16 12:45      9/7/16 12:48   \n",
       "37       New York           summerIntro     9/7/16 13:09      9/7/16 13:10   \n",
       "38  San Francisco   summerApps (4-week)     9/7/16 14:39      9/7/16 14:40   \n",
       "39       New York            summerApps     9/7/16 14:52      9/7/16 14:54   \n",
       "40      Sunnyvale            summerApps     9/7/16 15:57      9/7/16 15:58   \n",
       "41  San Francisco            summerApps     9/7/16 17:11      9/7/16 17:21   \n",
       "42  San Francisco              summerVR     9/7/16 19:13      9/7/16 19:25   \n",
       "43       New York   summerApps (4-week)     9/7/16 19:23      9/7/16 19:26   \n",
       "44  San Francisco            summerApps     9/7/16 19:39      9/7/16 19:40   \n",
       "45    Los Angeles           summerGames     9/7/16 19:51      9/7/16 19:57   \n",
       "46      Sunnyvale           summerIntro     9/7/16 23:58       9/8/16 0:00   \n",
       "47       New York            summerApps      9/8/16 0:50       9/8/16 0:58   \n",
       "48  San Francisco           summerGames      9/8/16 1:55       9/8/16 1:59   \n",
       "49      Sunnyvale            summerApps      9/8/16 5:59       9/8/16 6:04   \n",
       "50    Los Angeles  summerGames (4-week)     9/8/16 14:25      9/8/16 14:27   \n",
       "51  San Francisco           summerGames     9/8/16 22:00      9/8/16 22:06   \n",
       "52       New York            summerApps     9/8/16 22:16      9/8/16 22:20   \n",
       "53  San Francisco            summerApps     9/8/16 23:06      9/8/16 23:07   \n",
       "54  San Francisco            summerApps     9/8/16 23:01      9/8/16 23:11   \n",
       "55  San Francisco           summerIntro      9/9/16 1:41       9/9/16 1:42   \n",
       "56  San Francisco           summerIntro      9/9/16 4:22       9/9/16 4:25   \n",
       "57  San Francisco            summerApps     9/9/16 11:06      9/9/16 11:09   \n",
       "58       New York           summerGames     9/9/16 13:24      9/9/16 13:28   \n",
       "59  San Francisco           summerGames    9/10/16 22:28     9/10/16 22:30   \n",
       "60  San Francisco            summerApps     9/12/16 0:05      9/12/16 0:13   \n",
       "61  San Francisco              summerVR     9/13/16 4:36      9/13/16 4:42   \n",
       "62  San Francisco  summerGames (4-week)      9/7/16 5:08     9/13/16 20:13   \n",
       "63  San Francisco           summerIntro    9/14/16 12:04     9/14/16 12:10   \n",
       "64      Sunnyvale           summerGames    9/26/16 16:33     9/26/16 16:34   \n",
       "\n",
       "    Network ID  \n",
       "0   3212b7a834  \n",
       "1   f4954355aa  \n",
       "2   3d69ca289b  \n",
       "3   261608f95d  \n",
       "4   d6672ddf6f  \n",
       "5   088e6f938d  \n",
       "6   00f1d07a90  \n",
       "7   e0724aac23  \n",
       "8   9eeec0f9bf  \n",
       "9   6c80fd2754  \n",
       "10  6c04cd1a6e  \n",
       "11  82eadbe830  \n",
       "12  ccea45b0f4  \n",
       "13  9e894113e2  \n",
       "14  7a61b16f29  \n",
       "15  55641e8ccb  \n",
       "16  125a8466ea  \n",
       "17  9f88839991  \n",
       "18  bd06f31b2a  \n",
       "19  7f24478045  \n",
       "20  32fdf4fca0  \n",
       "21  ffbbd84b0e  \n",
       "22  9dbeedfbf5  \n",
       "23  19a8645313  \n",
       "24  42560fe8ea  \n",
       "25  b194ad4477  \n",
       "26  f8ef38e4e3  \n",
       "27  06674df051  \n",
       "28  66eb19a8df  \n",
       "29  c94ee250b6  \n",
       "..         ...  \n",
       "35  58089eb896  \n",
       "36  0b7b124ce3  \n",
       "37  32c6661877  \n",
       "38  75a5cf3cee  \n",
       "39  5a977a012b  \n",
       "40  20eafecabd  \n",
       "41  e474841bba  \n",
       "42  ae112590e9  \n",
       "43  a578e4964d  \n",
       "44  573a652ffb  \n",
       "45  cadcc3e368  \n",
       "46  9ba33ad0f9  \n",
       "47  1b349a7cce  \n",
       "48  94f319072c  \n",
       "49  9f09067d6a  \n",
       "50  89b8894183  \n",
       "51  01074776b4  \n",
       "52  11c95dc87f  \n",
       "53  0d6873c5ed  \n",
       "54  8a13f23e89  \n",
       "55  830f174273  \n",
       "56  9fc69673bd  \n",
       "57  6d5dece18c  \n",
       "58  f7f5617754  \n",
       "59  9500d5b989  \n",
       "60  fe650b21f7  \n",
       "61  a7deda5bf5  \n",
       "62  a3e21d76e3  \n",
       "63  843b902fa2  \n",
       "64  a2863e199d  \n",
       "\n",
       "[65 rows x 7 columns]"
      ]
     },
     "execution_count": 9,
     "metadata": {},
     "output_type": "execute_result"
    }
   ],
   "source": [
    "PATH = \"./2016/Week 8 Feedback (2016, incomplete) - results.csv\" #week 8\n",
    "df8 = pd.read_csv(PATH)\n",
    "df8"
   ]
  },
  {
   "cell_type": "markdown",
   "metadata": {},
   "source": [
    "## Cleaning Up Week 8"
   ]
  },
  {
   "cell_type": "code",
   "execution_count": null,
   "metadata": {},
   "outputs": [],
   "source": []
  },
  {
   "cell_type": "markdown",
   "metadata": {},
   "source": [
    "## Modifiying the rows to make it easier to concatenate"
   ]
  },
  {
   "cell_type": "code",
   "execution_count": 10,
   "metadata": {},
   "outputs": [],
   "source": [
    "# assiging the week value \n",
    "df8[\"Week\"] = [8] * 65\n",
    "# cleaning the track values\n",
    "old_track_values = df8[\"track\"].value_counts().keys().tolist()\n",
    "new_track_values = ['Apps', 'Games', 'Intro', 'VR', 'Apps', 'Games']\n",
    "df8 = df8.replace(old_track_values, new_track_values)\n",
    "\n",
    "# Modifying the locations with 2 letter representation\n",
    "old_location_values = df8[\"location\"].value_counts().keys().tolist()\n",
    "two_letter_location = ['SF', 'SV', 'NY', 'SG', 'LA']\n",
    "df8 = df8.replace(old_location_values, two_letter_location)\n"
   ]
  },
  {
   "cell_type": "code",
   "execution_count": 11,
   "metadata": {},
   "outputs": [
    {
     "data": {
      "text/html": [
       "<div>\n",
       "<style scoped>\n",
       "    .dataframe tbody tr th:only-of-type {\n",
       "        vertical-align: middle;\n",
       "    }\n",
       "\n",
       "    .dataframe tbody tr th {\n",
       "        vertical-align: top;\n",
       "    }\n",
       "\n",
       "    .dataframe thead th {\n",
       "        text-align: right;\n",
       "    }\n",
       "</style>\n",
       "<table border=\"1\" class=\"dataframe\">\n",
       "  <thead>\n",
       "    <tr style=\"text-align: right;\">\n",
       "      <th></th>\n",
       "      <th>#</th>\n",
       "      <th>How likely is it that you would recommend the Make School Summer Academy to a friend?</th>\n",
       "      <th>location</th>\n",
       "      <th>track</th>\n",
       "      <th>Start Date (UTC)</th>\n",
       "      <th>Submit Date (UTC)</th>\n",
       "      <th>Network ID</th>\n",
       "      <th>Week</th>\n",
       "    </tr>\n",
       "  </thead>\n",
       "  <tbody>\n",
       "    <tr>\n",
       "      <th>0</th>\n",
       "      <td>00b836bda84e6bdbe780af97e249e59f</td>\n",
       "      <td>10</td>\n",
       "      <td>NY</td>\n",
       "      <td>Apps</td>\n",
       "      <td>9/7/16 1:03</td>\n",
       "      <td>9/7/16 1:04</td>\n",
       "      <td>3212b7a834</td>\n",
       "      <td>8</td>\n",
       "    </tr>\n",
       "    <tr>\n",
       "      <th>1</th>\n",
       "      <td>39dde6dc0e1e375845d756fc7e39fc5f</td>\n",
       "      <td>10</td>\n",
       "      <td>SF</td>\n",
       "      <td>Intro</td>\n",
       "      <td>9/7/16 1:03</td>\n",
       "      <td>9/7/16 1:04</td>\n",
       "      <td>f4954355aa</td>\n",
       "      <td>8</td>\n",
       "    </tr>\n",
       "    <tr>\n",
       "      <th>2</th>\n",
       "      <td>5e56b9de91670b308cb98dd2848b8739</td>\n",
       "      <td>10</td>\n",
       "      <td>NY</td>\n",
       "      <td>Intro</td>\n",
       "      <td>9/7/16 1:03</td>\n",
       "      <td>9/7/16 1:05</td>\n",
       "      <td>3d69ca289b</td>\n",
       "      <td>8</td>\n",
       "    </tr>\n",
       "    <tr>\n",
       "      <th>3</th>\n",
       "      <td>641081d05785b47a0f17448625da0d49</td>\n",
       "      <td>9</td>\n",
       "      <td>SV</td>\n",
       "      <td>VR</td>\n",
       "      <td>9/7/16 1:04</td>\n",
       "      <td>9/7/16 1:06</td>\n",
       "      <td>261608f95d</td>\n",
       "      <td>8</td>\n",
       "    </tr>\n",
       "    <tr>\n",
       "      <th>4</th>\n",
       "      <td>c29bdd4f5678d78b450f4494e0f53c8c</td>\n",
       "      <td>3</td>\n",
       "      <td>SF</td>\n",
       "      <td>Intro</td>\n",
       "      <td>9/7/16 1:04</td>\n",
       "      <td>9/7/16 1:11</td>\n",
       "      <td>d6672ddf6f</td>\n",
       "      <td>8</td>\n",
       "    </tr>\n",
       "  </tbody>\n",
       "</table>\n",
       "</div>"
      ],
      "text/plain": [
       "                                  #  \\\n",
       "0  00b836bda84e6bdbe780af97e249e59f   \n",
       "1  39dde6dc0e1e375845d756fc7e39fc5f   \n",
       "2  5e56b9de91670b308cb98dd2848b8739   \n",
       "3  641081d05785b47a0f17448625da0d49   \n",
       "4  c29bdd4f5678d78b450f4494e0f53c8c   \n",
       "\n",
       "   How likely is it that you would recommend the Make School Summer Academy to a friend?  \\\n",
       "0                                                 10                                       \n",
       "1                                                 10                                       \n",
       "2                                                 10                                       \n",
       "3                                                  9                                       \n",
       "4                                                  3                                       \n",
       "\n",
       "  location  track Start Date (UTC) Submit Date (UTC)  Network ID  Week  \n",
       "0       NY   Apps      9/7/16 1:03       9/7/16 1:04  3212b7a834     8  \n",
       "1       SF  Intro      9/7/16 1:03       9/7/16 1:04  f4954355aa     8  \n",
       "2       NY  Intro      9/7/16 1:03       9/7/16 1:05  3d69ca289b     8  \n",
       "3       SV     VR      9/7/16 1:04       9/7/16 1:06  261608f95d     8  \n",
       "4       SF  Intro      9/7/16 1:04       9/7/16 1:11  d6672ddf6f     8  "
      ]
     },
     "execution_count": 11,
     "metadata": {},
     "output_type": "execute_result"
    }
   ],
   "source": [
    "df8.head()"
   ]
  },
  {
   "cell_type": "markdown",
   "metadata": {},
   "source": [
    "## Dropping the unnecessary columns "
   ]
  },
  {
   "cell_type": "code",
   "execution_count": 12,
   "metadata": {},
   "outputs": [],
   "source": [
    "def drop_columns_week_8(df):\n",
    "    df.drop(columns=[\"#\", \"Start Date (UTC)\", \"Submit Date (UTC)\", \"Network ID\"], inplace=True)"
   ]
  },
  {
   "cell_type": "code",
   "execution_count": 13,
   "metadata": {},
   "outputs": [
    {
     "data": {
      "text/html": [
       "<div>\n",
       "<style scoped>\n",
       "    .dataframe tbody tr th:only-of-type {\n",
       "        vertical-align: middle;\n",
       "    }\n",
       "\n",
       "    .dataframe tbody tr th {\n",
       "        vertical-align: top;\n",
       "    }\n",
       "\n",
       "    .dataframe thead th {\n",
       "        text-align: right;\n",
       "    }\n",
       "</style>\n",
       "<table border=\"1\" class=\"dataframe\">\n",
       "  <thead>\n",
       "    <tr style=\"text-align: right;\">\n",
       "      <th></th>\n",
       "      <th>How likely is it that you would recommend the Make School Summer Academy to a friend?</th>\n",
       "      <th>location</th>\n",
       "      <th>track</th>\n",
       "      <th>Week</th>\n",
       "    </tr>\n",
       "  </thead>\n",
       "  <tbody>\n",
       "    <tr>\n",
       "      <th>0</th>\n",
       "      <td>10</td>\n",
       "      <td>NY</td>\n",
       "      <td>Apps</td>\n",
       "      <td>8</td>\n",
       "    </tr>\n",
       "    <tr>\n",
       "      <th>1</th>\n",
       "      <td>10</td>\n",
       "      <td>SF</td>\n",
       "      <td>Intro</td>\n",
       "      <td>8</td>\n",
       "    </tr>\n",
       "    <tr>\n",
       "      <th>2</th>\n",
       "      <td>10</td>\n",
       "      <td>NY</td>\n",
       "      <td>Intro</td>\n",
       "      <td>8</td>\n",
       "    </tr>\n",
       "    <tr>\n",
       "      <th>3</th>\n",
       "      <td>9</td>\n",
       "      <td>SV</td>\n",
       "      <td>VR</td>\n",
       "      <td>8</td>\n",
       "    </tr>\n",
       "    <tr>\n",
       "      <th>4</th>\n",
       "      <td>3</td>\n",
       "      <td>SF</td>\n",
       "      <td>Intro</td>\n",
       "      <td>8</td>\n",
       "    </tr>\n",
       "  </tbody>\n",
       "</table>\n",
       "</div>"
      ],
      "text/plain": [
       "   How likely is it that you would recommend the Make School Summer Academy to a friend?  \\\n",
       "0                                                 10                                       \n",
       "1                                                 10                                       \n",
       "2                                                 10                                       \n",
       "3                                                  9                                       \n",
       "4                                                  3                                       \n",
       "\n",
       "  location  track  Week  \n",
       "0       NY   Apps     8  \n",
       "1       SF  Intro     8  \n",
       "2       NY  Intro     8  \n",
       "3       SV     VR     8  \n",
       "4       SF  Intro     8  "
      ]
     },
     "execution_count": 13,
     "metadata": {},
     "output_type": "execute_result"
    }
   ],
   "source": [
    "drop_columns_week_8(df8)\n",
    "df8.head()"
   ]
  },
  {
   "cell_type": "markdown",
   "metadata": {},
   "source": [
    "## Renaming the columns week 8"
   ]
  },
  {
   "cell_type": "code",
   "execution_count": 14,
   "metadata": {},
   "outputs": [
    {
     "data": {
      "text/html": [
       "<div>\n",
       "<style scoped>\n",
       "    .dataframe tbody tr th:only-of-type {\n",
       "        vertical-align: middle;\n",
       "    }\n",
       "\n",
       "    .dataframe tbody tr th {\n",
       "        vertical-align: top;\n",
       "    }\n",
       "\n",
       "    .dataframe thead th {\n",
       "        text-align: right;\n",
       "    }\n",
       "</style>\n",
       "<table border=\"1\" class=\"dataframe\">\n",
       "  <thead>\n",
       "    <tr style=\"text-align: right;\">\n",
       "      <th></th>\n",
       "      <th>Recommend</th>\n",
       "      <th>Location</th>\n",
       "      <th>Track</th>\n",
       "      <th>Week</th>\n",
       "    </tr>\n",
       "  </thead>\n",
       "  <tbody>\n",
       "    <tr>\n",
       "      <th>0</th>\n",
       "      <td>10</td>\n",
       "      <td>NY</td>\n",
       "      <td>Apps</td>\n",
       "      <td>8</td>\n",
       "    </tr>\n",
       "    <tr>\n",
       "      <th>1</th>\n",
       "      <td>10</td>\n",
       "      <td>SF</td>\n",
       "      <td>Intro</td>\n",
       "      <td>8</td>\n",
       "    </tr>\n",
       "    <tr>\n",
       "      <th>2</th>\n",
       "      <td>10</td>\n",
       "      <td>NY</td>\n",
       "      <td>Intro</td>\n",
       "      <td>8</td>\n",
       "    </tr>\n",
       "    <tr>\n",
       "      <th>3</th>\n",
       "      <td>9</td>\n",
       "      <td>SV</td>\n",
       "      <td>VR</td>\n",
       "      <td>8</td>\n",
       "    </tr>\n",
       "    <tr>\n",
       "      <th>4</th>\n",
       "      <td>3</td>\n",
       "      <td>SF</td>\n",
       "      <td>Intro</td>\n",
       "      <td>8</td>\n",
       "    </tr>\n",
       "  </tbody>\n",
       "</table>\n",
       "</div>"
      ],
      "text/plain": [
       "   Recommend Location  Track  Week\n",
       "0         10       NY   Apps     8\n",
       "1         10       SF  Intro     8\n",
       "2         10       NY  Intro     8\n",
       "3          9       SV     VR     8\n",
       "4          3       SF  Intro     8"
      ]
     },
     "execution_count": 14,
     "metadata": {},
     "output_type": "execute_result"
    }
   ],
   "source": [
    "df8.rename(columns = {\"track\":\"Track\", \"location\":\"Location\", \"How likely is it that you would recommend the Make School Summer Academy to a friend?\":\"Recommend\"}, inplace = True)\n",
    "df8.head()"
   ]
  },
  {
   "cell_type": "markdown",
   "metadata": {},
   "source": [
    "# Concatinating and resetting the index"
   ]
  },
  {
   "cell_type": "code",
   "execution_count": 15,
   "metadata": {},
   "outputs": [],
   "source": [
    "# concat all data from 2016 together\n",
    "final_2016 = pd.concat([df, df8], sort=True, ignore_index=True)"
   ]
  },
  {
   "cell_type": "code",
   "execution_count": 16,
   "metadata": {},
   "outputs": [
    {
     "data": {
      "text/html": [
       "<div>\n",
       "<style scoped>\n",
       "    .dataframe tbody tr th:only-of-type {\n",
       "        vertical-align: middle;\n",
       "    }\n",
       "\n",
       "    .dataframe tbody tr th {\n",
       "        vertical-align: top;\n",
       "    }\n",
       "\n",
       "    .dataframe thead th {\n",
       "        text-align: right;\n",
       "    }\n",
       "</style>\n",
       "<table border=\"1\" class=\"dataframe\">\n",
       "  <thead>\n",
       "    <tr style=\"text-align: right;\">\n",
       "      <th></th>\n",
       "      <th>Location</th>\n",
       "      <th>Pacing</th>\n",
       "      <th>Recommend</th>\n",
       "      <th>Track</th>\n",
       "      <th>Week</th>\n",
       "    </tr>\n",
       "  </thead>\n",
       "  <tbody>\n",
       "    <tr>\n",
       "      <th>0</th>\n",
       "      <td>LA</td>\n",
       "      <td>4.0</td>\n",
       "      <td>6</td>\n",
       "      <td>NaN</td>\n",
       "      <td>1</td>\n",
       "    </tr>\n",
       "    <tr>\n",
       "      <th>1</th>\n",
       "      <td>LA</td>\n",
       "      <td>4.0</td>\n",
       "      <td>8</td>\n",
       "      <td>NaN</td>\n",
       "      <td>1</td>\n",
       "    </tr>\n",
       "    <tr>\n",
       "      <th>2</th>\n",
       "      <td>LA</td>\n",
       "      <td>4.0</td>\n",
       "      <td>8</td>\n",
       "      <td>NaN</td>\n",
       "      <td>1</td>\n",
       "    </tr>\n",
       "    <tr>\n",
       "      <th>3</th>\n",
       "      <td>LA</td>\n",
       "      <td>4.0</td>\n",
       "      <td>8</td>\n",
       "      <td>NaN</td>\n",
       "      <td>1</td>\n",
       "    </tr>\n",
       "    <tr>\n",
       "      <th>4</th>\n",
       "      <td>LA</td>\n",
       "      <td>5.0</td>\n",
       "      <td>8</td>\n",
       "      <td>NaN</td>\n",
       "      <td>1</td>\n",
       "    </tr>\n",
       "  </tbody>\n",
       "</table>\n",
       "</div>"
      ],
      "text/plain": [
       "  Location  Pacing  Recommend Track  Week\n",
       "0       LA     4.0          6   NaN     1\n",
       "1       LA     4.0          8   NaN     1\n",
       "2       LA     4.0          8   NaN     1\n",
       "3       LA     4.0          8   NaN     1\n",
       "4       LA     5.0          8   NaN     1"
      ]
     },
     "execution_count": 16,
     "metadata": {},
     "output_type": "execute_result"
    }
   ],
   "source": [
    "# sorting the week and location \n",
    "final_2016.sort_values(by=[\"Week\", \"Location\"], inplace=True)\n",
    "# resettin the indexes\n",
    "final_2016.reset_index(drop=True, inplace=True)\n",
    "final_2016.head()"
   ]
  },
  {
   "cell_type": "code",
   "execution_count": 17,
   "metadata": {},
   "outputs": [],
   "source": [
    "# filling the NaN value with zeros and converting all pacing to integer\n",
    "final_2016[\"Pacing\"] = final_2016[\"Pacing\"].fillna(0).astype(int)"
   ]
  },
  {
   "cell_type": "code",
   "execution_count": 18,
   "metadata": {},
   "outputs": [
    {
     "data": {
      "text/plain": [
       "array([4, 5, 3, 2, 1, 0])"
      ]
     },
     "execution_count": 18,
     "metadata": {},
     "output_type": "execute_result"
    }
   ],
   "source": [
    "final_2016[\"Pacing\"].unique()"
   ]
  },
  {
   "cell_type": "code",
   "execution_count": 19,
   "metadata": {},
   "outputs": [
    {
     "name": "stdout",
     "output_type": "stream",
     "text": [
      "['SV', 'SF', 'NY', 'LA', 'SG', 'Taipei', 'Tokyo', 'HK']\n"
     ]
    }
   ],
   "source": [
    "# Modifying the locations with 2 letter representation\n",
    "old_location_values_2016 = final_2016[\"Location\"].value_counts().keys().tolist()\n",
    "print(old_location_values_2016)\n",
    "full_name_location = ['Sunnyvale', 'San Francisco', 'New York City', 'Los Angeles', 'Singapore', 'Taipei', 'Tokyo', 'Hong Kong']\n",
    "final_2016 = final_2016.replace(old_location_values_2016, full_name_location)"
   ]
  },
  {
   "cell_type": "code",
   "execution_count": 20,
   "metadata": {},
   "outputs": [
    {
     "data": {
      "text/html": [
       "<div>\n",
       "<style scoped>\n",
       "    .dataframe tbody tr th:only-of-type {\n",
       "        vertical-align: middle;\n",
       "    }\n",
       "\n",
       "    .dataframe tbody tr th {\n",
       "        vertical-align: top;\n",
       "    }\n",
       "\n",
       "    .dataframe thead th {\n",
       "        text-align: right;\n",
       "    }\n",
       "</style>\n",
       "<table border=\"1\" class=\"dataframe\">\n",
       "  <thead>\n",
       "    <tr style=\"text-align: right;\">\n",
       "      <th></th>\n",
       "      <th>Location</th>\n",
       "      <th>Pacing</th>\n",
       "      <th>Recommend</th>\n",
       "      <th>Track</th>\n",
       "      <th>Week</th>\n",
       "    </tr>\n",
       "  </thead>\n",
       "  <tbody>\n",
       "    <tr>\n",
       "      <th>0</th>\n",
       "      <td>Los Angeles</td>\n",
       "      <td>4</td>\n",
       "      <td>6</td>\n",
       "      <td>NaN</td>\n",
       "      <td>1</td>\n",
       "    </tr>\n",
       "    <tr>\n",
       "      <th>1</th>\n",
       "      <td>Los Angeles</td>\n",
       "      <td>4</td>\n",
       "      <td>8</td>\n",
       "      <td>NaN</td>\n",
       "      <td>1</td>\n",
       "    </tr>\n",
       "    <tr>\n",
       "      <th>2</th>\n",
       "      <td>Los Angeles</td>\n",
       "      <td>4</td>\n",
       "      <td>8</td>\n",
       "      <td>NaN</td>\n",
       "      <td>1</td>\n",
       "    </tr>\n",
       "    <tr>\n",
       "      <th>3</th>\n",
       "      <td>Los Angeles</td>\n",
       "      <td>4</td>\n",
       "      <td>8</td>\n",
       "      <td>NaN</td>\n",
       "      <td>1</td>\n",
       "    </tr>\n",
       "    <tr>\n",
       "      <th>4</th>\n",
       "      <td>Los Angeles</td>\n",
       "      <td>5</td>\n",
       "      <td>8</td>\n",
       "      <td>NaN</td>\n",
       "      <td>1</td>\n",
       "    </tr>\n",
       "    <tr>\n",
       "      <th>5</th>\n",
       "      <td>Los Angeles</td>\n",
       "      <td>4</td>\n",
       "      <td>10</td>\n",
       "      <td>NaN</td>\n",
       "      <td>1</td>\n",
       "    </tr>\n",
       "    <tr>\n",
       "      <th>6</th>\n",
       "      <td>Los Angeles</td>\n",
       "      <td>3</td>\n",
       "      <td>10</td>\n",
       "      <td>NaN</td>\n",
       "      <td>1</td>\n",
       "    </tr>\n",
       "    <tr>\n",
       "      <th>7</th>\n",
       "      <td>New York City</td>\n",
       "      <td>5</td>\n",
       "      <td>6</td>\n",
       "      <td>Games</td>\n",
       "      <td>1</td>\n",
       "    </tr>\n",
       "    <tr>\n",
       "      <th>8</th>\n",
       "      <td>New York City</td>\n",
       "      <td>3</td>\n",
       "      <td>6</td>\n",
       "      <td>Games</td>\n",
       "      <td>1</td>\n",
       "    </tr>\n",
       "    <tr>\n",
       "      <th>9</th>\n",
       "      <td>New York City</td>\n",
       "      <td>3</td>\n",
       "      <td>6</td>\n",
       "      <td>Apps</td>\n",
       "      <td>1</td>\n",
       "    </tr>\n",
       "  </tbody>\n",
       "</table>\n",
       "</div>"
      ],
      "text/plain": [
       "        Location  Pacing  Recommend  Track  Week\n",
       "0    Los Angeles       4          6    NaN     1\n",
       "1    Los Angeles       4          8    NaN     1\n",
       "2    Los Angeles       4          8    NaN     1\n",
       "3    Los Angeles       4          8    NaN     1\n",
       "4    Los Angeles       5          8    NaN     1\n",
       "5    Los Angeles       4         10    NaN     1\n",
       "6    Los Angeles       3         10    NaN     1\n",
       "7  New York City       5          6  Games     1\n",
       "8  New York City       3          6  Games     1\n",
       "9  New York City       3          6   Apps     1"
      ]
     },
     "execution_count": 20,
     "metadata": {},
     "output_type": "execute_result"
    }
   ],
   "source": [
    "final_2016.head(10)"
   ]
  },
  {
   "cell_type": "code",
   "execution_count": 21,
   "metadata": {},
   "outputs": [],
   "source": [
    "final_2016[\"Year\"] = \"2016\""
   ]
  },
  {
   "cell_type": "code",
   "execution_count": 22,
   "metadata": {},
   "outputs": [
    {
     "data": {
      "text/html": [
       "<div>\n",
       "<style scoped>\n",
       "    .dataframe tbody tr th:only-of-type {\n",
       "        vertical-align: middle;\n",
       "    }\n",
       "\n",
       "    .dataframe tbody tr th {\n",
       "        vertical-align: top;\n",
       "    }\n",
       "\n",
       "    .dataframe thead th {\n",
       "        text-align: right;\n",
       "    }\n",
       "</style>\n",
       "<table border=\"1\" class=\"dataframe\">\n",
       "  <thead>\n",
       "    <tr style=\"text-align: right;\">\n",
       "      <th></th>\n",
       "      <th>Location</th>\n",
       "      <th>Pacing</th>\n",
       "      <th>Recommend</th>\n",
       "      <th>Track</th>\n",
       "      <th>Week</th>\n",
       "      <th>Year</th>\n",
       "    </tr>\n",
       "  </thead>\n",
       "  <tbody>\n",
       "    <tr>\n",
       "      <th>0</th>\n",
       "      <td>Los Angeles</td>\n",
       "      <td>4</td>\n",
       "      <td>6</td>\n",
       "      <td>NaN</td>\n",
       "      <td>1</td>\n",
       "      <td>2016</td>\n",
       "    </tr>\n",
       "    <tr>\n",
       "      <th>1</th>\n",
       "      <td>Los Angeles</td>\n",
       "      <td>4</td>\n",
       "      <td>8</td>\n",
       "      <td>NaN</td>\n",
       "      <td>1</td>\n",
       "      <td>2016</td>\n",
       "    </tr>\n",
       "    <tr>\n",
       "      <th>2</th>\n",
       "      <td>Los Angeles</td>\n",
       "      <td>4</td>\n",
       "      <td>8</td>\n",
       "      <td>NaN</td>\n",
       "      <td>1</td>\n",
       "      <td>2016</td>\n",
       "    </tr>\n",
       "    <tr>\n",
       "      <th>3</th>\n",
       "      <td>Los Angeles</td>\n",
       "      <td>4</td>\n",
       "      <td>8</td>\n",
       "      <td>NaN</td>\n",
       "      <td>1</td>\n",
       "      <td>2016</td>\n",
       "    </tr>\n",
       "    <tr>\n",
       "      <th>4</th>\n",
       "      <td>Los Angeles</td>\n",
       "      <td>5</td>\n",
       "      <td>8</td>\n",
       "      <td>NaN</td>\n",
       "      <td>1</td>\n",
       "      <td>2016</td>\n",
       "    </tr>\n",
       "  </tbody>\n",
       "</table>\n",
       "</div>"
      ],
      "text/plain": [
       "      Location  Pacing  Recommend Track  Week  Year\n",
       "0  Los Angeles       4          6   NaN     1  2016\n",
       "1  Los Angeles       4          8   NaN     1  2016\n",
       "2  Los Angeles       4          8   NaN     1  2016\n",
       "3  Los Angeles       4          8   NaN     1  2016\n",
       "4  Los Angeles       5          8   NaN     1  2016"
      ]
     },
     "execution_count": 22,
     "metadata": {},
     "output_type": "execute_result"
    }
   ],
   "source": [
    "final_2016.head()"
   ]
  },
  {
   "cell_type": "markdown",
   "metadata": {},
   "source": [
    "# 2017 Data"
   ]
  },
  {
   "cell_type": "code",
   "execution_count": 23,
   "metadata": {},
   "outputs": [
    {
     "data": {
      "text/html": [
       "<div>\n",
       "<style scoped>\n",
       "    .dataframe tbody tr th:only-of-type {\n",
       "        vertical-align: middle;\n",
       "    }\n",
       "\n",
       "    .dataframe tbody tr th {\n",
       "        vertical-align: top;\n",
       "    }\n",
       "\n",
       "    .dataframe thead th {\n",
       "        text-align: right;\n",
       "    }\n",
       "</style>\n",
       "<table border=\"1\" class=\"dataframe\">\n",
       "  <thead>\n",
       "    <tr style=\"text-align: right;\">\n",
       "      <th></th>\n",
       "      <th>ID</th>\n",
       "      <th>Location</th>\n",
       "      <th>Track</th>\n",
       "      <th>Week</th>\n",
       "      <th>Rating (Num)</th>\n",
       "      <th>Schedule Pacing</th>\n",
       "    </tr>\n",
       "  </thead>\n",
       "  <tbody>\n",
       "    <tr>\n",
       "      <th>0</th>\n",
       "      <td>134</td>\n",
       "      <td>San Francisco</td>\n",
       "      <td>Apps, Explorer</td>\n",
       "      <td>Week 1</td>\n",
       "      <td>3</td>\n",
       "      <td>Just right</td>\n",
       "    </tr>\n",
       "    <tr>\n",
       "      <th>1</th>\n",
       "      <td>36</td>\n",
       "      <td>Los Angeles</td>\n",
       "      <td>Apps</td>\n",
       "      <td>Week 1</td>\n",
       "      <td>4</td>\n",
       "      <td>A little too fast</td>\n",
       "    </tr>\n",
       "    <tr>\n",
       "      <th>2</th>\n",
       "      <td>117</td>\n",
       "      <td>San Francisco</td>\n",
       "      <td>Games</td>\n",
       "      <td>Week 1</td>\n",
       "      <td>4</td>\n",
       "      <td>Way too slow</td>\n",
       "    </tr>\n",
       "    <tr>\n",
       "      <th>3</th>\n",
       "      <td>253</td>\n",
       "      <td>NaN</td>\n",
       "      <td>NaN</td>\n",
       "      <td>Week 2</td>\n",
       "      <td>4</td>\n",
       "      <td>A little too fast</td>\n",
       "    </tr>\n",
       "    <tr>\n",
       "      <th>4</th>\n",
       "      <td>350</td>\n",
       "      <td>New York City</td>\n",
       "      <td>Apps, Explorer</td>\n",
       "      <td>Week 1</td>\n",
       "      <td>4</td>\n",
       "      <td>Just right</td>\n",
       "    </tr>\n",
       "  </tbody>\n",
       "</table>\n",
       "</div>"
      ],
      "text/plain": [
       "    ID       Location           Track    Week Rating (Num)    Schedule Pacing\n",
       "0  134  San Francisco  Apps, Explorer  Week 1            3         Just right\n",
       "1   36    Los Angeles            Apps  Week 1            4  A little too fast\n",
       "2  117  San Francisco           Games  Week 1            4       Way too slow\n",
       "3  253            NaN             NaN  Week 2            4  A little too fast\n",
       "4  350  New York City  Apps, Explorer  Week 1            4         Just right"
      ]
     },
     "execution_count": 23,
     "metadata": {},
     "output_type": "execute_result"
    }
   ],
   "source": [
    "PATH_2017 = \"./2017/Student Feedback Surveys-Superview.csv\" # 2017 data\n",
    "df_2017 = pd.read_csv(PATH_2017)\n",
    "df_2017.head()"
   ]
  },
  {
   "cell_type": "markdown",
   "metadata": {},
   "source": [
    "### Dropping and Renaming the Columns"
   ]
  },
  {
   "cell_type": "code",
   "execution_count": 24,
   "metadata": {},
   "outputs": [],
   "source": [
    "df_2017.drop(columns=[\"ID\"], inplace=True)"
   ]
  },
  {
   "cell_type": "code",
   "execution_count": 25,
   "metadata": {},
   "outputs": [],
   "source": [
    "df_2017.rename(columns = {'Rating (Num)':'Recommend', 'Schedule Pacing':'Pacing'}, inplace = True)"
   ]
  },
  {
   "cell_type": "code",
   "execution_count": 26,
   "metadata": {},
   "outputs": [
    {
     "data": {
      "text/html": [
       "<div>\n",
       "<style scoped>\n",
       "    .dataframe tbody tr th:only-of-type {\n",
       "        vertical-align: middle;\n",
       "    }\n",
       "\n",
       "    .dataframe tbody tr th {\n",
       "        vertical-align: top;\n",
       "    }\n",
       "\n",
       "    .dataframe thead th {\n",
       "        text-align: right;\n",
       "    }\n",
       "</style>\n",
       "<table border=\"1\" class=\"dataframe\">\n",
       "  <thead>\n",
       "    <tr style=\"text-align: right;\">\n",
       "      <th></th>\n",
       "      <th>Location</th>\n",
       "      <th>Track</th>\n",
       "      <th>Week</th>\n",
       "      <th>Recommend</th>\n",
       "      <th>Pacing</th>\n",
       "    </tr>\n",
       "  </thead>\n",
       "  <tbody>\n",
       "    <tr>\n",
       "      <th>0</th>\n",
       "      <td>San Francisco</td>\n",
       "      <td>Apps, Explorer</td>\n",
       "      <td>Week 1</td>\n",
       "      <td>3</td>\n",
       "      <td>Just right</td>\n",
       "    </tr>\n",
       "    <tr>\n",
       "      <th>1</th>\n",
       "      <td>Los Angeles</td>\n",
       "      <td>Apps</td>\n",
       "      <td>Week 1</td>\n",
       "      <td>4</td>\n",
       "      <td>A little too fast</td>\n",
       "    </tr>\n",
       "    <tr>\n",
       "      <th>2</th>\n",
       "      <td>San Francisco</td>\n",
       "      <td>Games</td>\n",
       "      <td>Week 1</td>\n",
       "      <td>4</td>\n",
       "      <td>Way too slow</td>\n",
       "    </tr>\n",
       "    <tr>\n",
       "      <th>3</th>\n",
       "      <td>NaN</td>\n",
       "      <td>NaN</td>\n",
       "      <td>Week 2</td>\n",
       "      <td>4</td>\n",
       "      <td>A little too fast</td>\n",
       "    </tr>\n",
       "    <tr>\n",
       "      <th>4</th>\n",
       "      <td>New York City</td>\n",
       "      <td>Apps, Explorer</td>\n",
       "      <td>Week 1</td>\n",
       "      <td>4</td>\n",
       "      <td>Just right</td>\n",
       "    </tr>\n",
       "  </tbody>\n",
       "</table>\n",
       "</div>"
      ],
      "text/plain": [
       "        Location           Track    Week Recommend             Pacing\n",
       "0  San Francisco  Apps, Explorer  Week 1         3         Just right\n",
       "1    Los Angeles            Apps  Week 1         4  A little too fast\n",
       "2  San Francisco           Games  Week 1         4       Way too slow\n",
       "3            NaN             NaN  Week 2         4  A little too fast\n",
       "4  New York City  Apps, Explorer  Week 1         4         Just right"
      ]
     },
     "execution_count": 26,
     "metadata": {},
     "output_type": "execute_result"
    }
   ],
   "source": [
    "df_2017.head()"
   ]
  },
  {
   "cell_type": "markdown",
   "metadata": {},
   "source": [
    "## Cleaning Track and Week and pacing row naming "
   ]
  },
  {
   "cell_type": "code",
   "execution_count": 27,
   "metadata": {},
   "outputs": [],
   "source": [
    "# Track renaming \n",
    "old_track_values = df_2017[\"Track\"].value_counts().keys().tolist()\n",
    "# print(old_track_values)\n",
    "new_track_values = ['Apps', 'Apps', 'Games', 'VR', 'Games']\n",
    "df_2017 = df_2017.replace(old_track_values, new_track_values)"
   ]
  },
  {
   "cell_type": "code",
   "execution_count": 28,
   "metadata": {},
   "outputs": [],
   "source": [
    "# Modifying the week values with numbers\n",
    "old_week_values = df_2017[\"Week\"].value_counts().keys().tolist()\n",
    "# print(old_week_values)\n",
    "new_week_values = [1, 2, 3, 4, 5, 6, 7, 8]\n",
    "df_2017 = df_2017.replace(old_week_values, new_week_values)"
   ]
  },
  {
   "cell_type": "code",
   "execution_count": 29,
   "metadata": {},
   "outputs": [
    {
     "data": {
      "text/plain": [
       "array([3, 4, 1, 2, 5, 0])"
      ]
     },
     "execution_count": 29,
     "metadata": {},
     "output_type": "execute_result"
    }
   ],
   "source": [
    "# Pacing values converting to int representation\n",
    "df_2017[\"Pacing\"].unique()\n",
    "\n",
    "schedule_pacing_map = {\n",
    "    0: 0,\n",
    "    1: 1,\n",
    "    2: 2,\n",
    "    3: 3,\n",
    "    4: 4,\n",
    "    5: 5,\n",
    "    \"Way too slow\": 1,\n",
    "    \"A little too slow\": 2,\n",
    "    \"Just right\": 3,\n",
    "    \"A little too fast\": 4,\n",
    "    \"Way too fast\": 5\n",
    "}\n",
    "\n",
    "df_2017[\"Pacing\"] = df_2017[\"Pacing\"].fillna(0)\n",
    "df_2017[\"Pacing\"] = df_2017[\"Pacing\"].map(schedule_pacing_map)\n",
    "df_2017[\"Pacing\"].unique()"
   ]
  },
  {
   "cell_type": "code",
   "execution_count": 30,
   "metadata": {},
   "outputs": [
    {
     "data": {
      "text/html": [
       "<div>\n",
       "<style scoped>\n",
       "    .dataframe tbody tr th:only-of-type {\n",
       "        vertical-align: middle;\n",
       "    }\n",
       "\n",
       "    .dataframe tbody tr th {\n",
       "        vertical-align: top;\n",
       "    }\n",
       "\n",
       "    .dataframe thead th {\n",
       "        text-align: right;\n",
       "    }\n",
       "</style>\n",
       "<table border=\"1\" class=\"dataframe\">\n",
       "  <thead>\n",
       "    <tr style=\"text-align: right;\">\n",
       "      <th></th>\n",
       "      <th>Location</th>\n",
       "      <th>Track</th>\n",
       "      <th>Week</th>\n",
       "      <th>Recommend</th>\n",
       "      <th>Pacing</th>\n",
       "    </tr>\n",
       "  </thead>\n",
       "  <tbody>\n",
       "    <tr>\n",
       "      <th>0</th>\n",
       "      <td>San Francisco</td>\n",
       "      <td>Apps</td>\n",
       "      <td>1</td>\n",
       "      <td>3</td>\n",
       "      <td>3</td>\n",
       "    </tr>\n",
       "    <tr>\n",
       "      <th>1</th>\n",
       "      <td>Los Angeles</td>\n",
       "      <td>Apps</td>\n",
       "      <td>1</td>\n",
       "      <td>4</td>\n",
       "      <td>4</td>\n",
       "    </tr>\n",
       "    <tr>\n",
       "      <th>2</th>\n",
       "      <td>San Francisco</td>\n",
       "      <td>Games</td>\n",
       "      <td>1</td>\n",
       "      <td>4</td>\n",
       "      <td>1</td>\n",
       "    </tr>\n",
       "    <tr>\n",
       "      <th>3</th>\n",
       "      <td>NaN</td>\n",
       "      <td>NaN</td>\n",
       "      <td>2</td>\n",
       "      <td>4</td>\n",
       "      <td>4</td>\n",
       "    </tr>\n",
       "    <tr>\n",
       "      <th>4</th>\n",
       "      <td>New York City</td>\n",
       "      <td>Apps</td>\n",
       "      <td>1</td>\n",
       "      <td>4</td>\n",
       "      <td>3</td>\n",
       "    </tr>\n",
       "  </tbody>\n",
       "</table>\n",
       "</div>"
      ],
      "text/plain": [
       "        Location  Track  Week Recommend  Pacing\n",
       "0  San Francisco   Apps     1         3       3\n",
       "1    Los Angeles   Apps     1         4       4\n",
       "2  San Francisco  Games     1         4       1\n",
       "3            NaN    NaN     2         4       4\n",
       "4  New York City   Apps     1         4       3"
      ]
     },
     "execution_count": 30,
     "metadata": {},
     "output_type": "execute_result"
    }
   ],
   "source": [
    "df_2017.head()"
   ]
  },
  {
   "cell_type": "code",
   "execution_count": 31,
   "metadata": {},
   "outputs": [
    {
     "data": {
      "text/html": [
       "<div>\n",
       "<style scoped>\n",
       "    .dataframe tbody tr th:only-of-type {\n",
       "        vertical-align: middle;\n",
       "    }\n",
       "\n",
       "    .dataframe tbody tr th {\n",
       "        vertical-align: top;\n",
       "    }\n",
       "\n",
       "    .dataframe thead th {\n",
       "        text-align: right;\n",
       "    }\n",
       "</style>\n",
       "<table border=\"1\" class=\"dataframe\">\n",
       "  <thead>\n",
       "    <tr style=\"text-align: right;\">\n",
       "      <th></th>\n",
       "      <th>Location</th>\n",
       "      <th>Pacing</th>\n",
       "      <th>Recommend</th>\n",
       "      <th>Track</th>\n",
       "      <th>Week</th>\n",
       "      <th>Year</th>\n",
       "    </tr>\n",
       "  </thead>\n",
       "  <tbody>\n",
       "    <tr>\n",
       "      <th>0</th>\n",
       "      <td>Los Angeles</td>\n",
       "      <td>4</td>\n",
       "      <td>6</td>\n",
       "      <td>NaN</td>\n",
       "      <td>1</td>\n",
       "      <td>2016</td>\n",
       "    </tr>\n",
       "    <tr>\n",
       "      <th>1</th>\n",
       "      <td>Los Angeles</td>\n",
       "      <td>4</td>\n",
       "      <td>8</td>\n",
       "      <td>NaN</td>\n",
       "      <td>1</td>\n",
       "      <td>2016</td>\n",
       "    </tr>\n",
       "    <tr>\n",
       "      <th>2</th>\n",
       "      <td>Los Angeles</td>\n",
       "      <td>4</td>\n",
       "      <td>8</td>\n",
       "      <td>NaN</td>\n",
       "      <td>1</td>\n",
       "      <td>2016</td>\n",
       "    </tr>\n",
       "    <tr>\n",
       "      <th>3</th>\n",
       "      <td>Los Angeles</td>\n",
       "      <td>4</td>\n",
       "      <td>8</td>\n",
       "      <td>NaN</td>\n",
       "      <td>1</td>\n",
       "      <td>2016</td>\n",
       "    </tr>\n",
       "    <tr>\n",
       "      <th>4</th>\n",
       "      <td>Los Angeles</td>\n",
       "      <td>5</td>\n",
       "      <td>8</td>\n",
       "      <td>NaN</td>\n",
       "      <td>1</td>\n",
       "      <td>2016</td>\n",
       "    </tr>\n",
       "  </tbody>\n",
       "</table>\n",
       "</div>"
      ],
      "text/plain": [
       "      Location  Pacing  Recommend Track  Week  Year\n",
       "0  Los Angeles       4          6   NaN     1  2016\n",
       "1  Los Angeles       4          8   NaN     1  2016\n",
       "2  Los Angeles       4          8   NaN     1  2016\n",
       "3  Los Angeles       4          8   NaN     1  2016\n",
       "4  Los Angeles       5          8   NaN     1  2016"
      ]
     },
     "execution_count": 31,
     "metadata": {},
     "output_type": "execute_result"
    }
   ],
   "source": [
    "final_2016.head()"
   ]
  },
  {
   "cell_type": "code",
   "execution_count": 32,
   "metadata": {},
   "outputs": [
    {
     "data": {
      "text/plain": [
       "array(['Los Angeles', 'New York City', 'San Francisco', 'Singapore',\n",
       "       'Sunnyvale', 'Hong Kong', 'Taipei', 'Tokyo'], dtype=object)"
      ]
     },
     "execution_count": 32,
     "metadata": {},
     "output_type": "execute_result"
    }
   ],
   "source": [
    "final_2016[\"Location\"].unique()"
   ]
  },
  {
   "cell_type": "code",
   "execution_count": 33,
   "metadata": {},
   "outputs": [
    {
     "data": {
      "text/plain": [
       "array([3, 4, 1, 2, 5, 0])"
      ]
     },
     "execution_count": 33,
     "metadata": {},
     "output_type": "execute_result"
    }
   ],
   "source": [
    "df_2017[\"Pacing\"].unique()"
   ]
  },
  {
   "cell_type": "code",
   "execution_count": 34,
   "metadata": {},
   "outputs": [
    {
     "data": {
      "text/plain": [
       "array(['3', '4', '5', '6', '7', '8', '9', '10', '0', '1', '2', '#ERROR!'],\n",
       "      dtype=object)"
      ]
     },
     "execution_count": 34,
     "metadata": {},
     "output_type": "execute_result"
    }
   ],
   "source": [
    "df_2017[\"Recommend\"].unique()"
   ]
  },
  {
   "cell_type": "code",
   "execution_count": 35,
   "metadata": {},
   "outputs": [],
   "source": [
    "# Drop confounding #ERROR! value\n",
    "df_2017 = df_2017[df_2017[\"Recommend\"] != \"#ERROR!\"]"
   ]
  },
  {
   "cell_type": "code",
   "execution_count": 36,
   "metadata": {},
   "outputs": [
    {
     "data": {
      "text/plain": [
       "array(['3', '4', '5', '6', '7', '8', '9', '10', '0', '1', '2'],\n",
       "      dtype=object)"
      ]
     },
     "execution_count": 36,
     "metadata": {},
     "output_type": "execute_result"
    }
   ],
   "source": [
    "df_2017[\"Recommend\"].unique()"
   ]
  },
  {
   "cell_type": "code",
   "execution_count": 37,
   "metadata": {},
   "outputs": [],
   "source": [
    "# converting the Recommend column string to int\n",
    "df_2017[\"Recommend\"] = df_2017[\"Recommend\"].astype(int)"
   ]
  },
  {
   "cell_type": "code",
   "execution_count": 38,
   "metadata": {},
   "outputs": [
    {
     "data": {
      "text/plain": [
       "array([ 3,  4,  5,  6,  7,  8,  9, 10,  0,  1,  2])"
      ]
     },
     "execution_count": 38,
     "metadata": {},
     "output_type": "execute_result"
    }
   ],
   "source": [
    "df_2017[\"Recommend\"].unique()"
   ]
  },
  {
   "cell_type": "code",
   "execution_count": 39,
   "metadata": {},
   "outputs": [
    {
     "data": {
      "text/plain": [
       "array(['Apps', 'Games', nan, 'VR'], dtype=object)"
      ]
     },
     "execution_count": 39,
     "metadata": {},
     "output_type": "execute_result"
    }
   ],
   "source": [
    "df_2017[\"Track\"].unique()"
   ]
  },
  {
   "cell_type": "code",
   "execution_count": 40,
   "metadata": {},
   "outputs": [
    {
     "data": {
      "text/plain": [
       "array(['San Francisco', 'Los Angeles', nan, 'New York City',\n",
       "       'Redwood City', 'Santa Clara', 'Oakland', 'Washington DC',\n",
       "       'Chicago', 'Atlanta', 'Hong Kong', 'Beijing', 'Tokyo'],\n",
       "      dtype=object)"
      ]
     },
     "execution_count": 40,
     "metadata": {},
     "output_type": "execute_result"
    }
   ],
   "source": [
    "df_2017[\"Location\"].unique()"
   ]
  },
  {
   "cell_type": "code",
   "execution_count": 41,
   "metadata": {},
   "outputs": [],
   "source": [
    "df_2017[\"Year\"] = \"2017\""
   ]
  },
  {
   "cell_type": "code",
   "execution_count": 42,
   "metadata": {},
   "outputs": [
    {
     "data": {
      "text/plain": [
       "<matplotlib.axes._subplots.AxesSubplot at 0x116745fd0>"
      ]
     },
     "execution_count": 42,
     "metadata": {},
     "output_type": "execute_result"
    },
    {
     "data": {
      "image/png": "[encoded data removed]",
      "text/plain": [
       "<Figure size 432x288 with 1 Axes>"
      ]
     },
     "metadata": {
      "needs_background": "light"
     },
     "output_type": "display_data"
    }
   ],
   "source": [
    "# Location Represention in terms of the number of submitted data \n",
    "df['Location'].value_counts().plot(kind='bar')"
   ]
  },
  {
   "cell_type": "code",
   "execution_count": 43,
   "metadata": {},
   "outputs": [
    {
     "data": {
      "text/plain": [
       "pandas.core.series.Series"
      ]
     },
     "execution_count": 43,
     "metadata": {},
     "output_type": "execute_result"
    }
   ],
   "source": [
    "type(df['Location'].value_counts())"
   ]
  },
  {
   "cell_type": "markdown",
   "metadata": {},
   "source": [
    "### Calculating NPS for Final 2016 data"
   ]
  },
  {
   "cell_type": "code",
   "execution_count": null,
   "metadata": {},
   "outputs": [],
   "source": []
  },
  {
   "cell_type": "code",
   "execution_count": 44,
   "metadata": {},
   "outputs": [
    {
     "name": "stdout",
     "output_type": "stream",
     "text": [
      "153 397 991\n"
     ]
    }
   ],
   "source": [
    "detractors_2016 = len(final_2016[(final_2016[\"Recommend\"] <= 6) & (final_2016[\"Recommend\"] >= 1)])\n",
    "promoters_2016 = len(final_2016[final_2016[\"Recommend\"] > 8])\n",
    "total_2016 = len(final_2016[\"Recommend\"])\n",
    "print(detractors_2016, promoters_2016, total_2016)\n"
   ]
  },
  {
   "cell_type": "code",
   "execution_count": 45,
   "metadata": {},
   "outputs": [
    {
     "name": "stdout",
     "output_type": "stream",
     "text": [
      "24.62159434914228\n"
     ]
    }
   ],
   "source": [
    "NPS_2016 =((promoters_2016 - detractors_2016)/total_2016)*100\n",
    "print(NPS_2016)\n"
   ]
  },
  {
   "cell_type": "markdown",
   "metadata": {},
   "source": [
    "### NPS is  25% for 2016 final data "
   ]
  },
  {
   "cell_type": "code",
   "execution_count": 46,
   "metadata": {},
   "outputs": [
    {
     "data": {
      "text/plain": [
       "8     435\n",
       "10    383\n",
       "6     124\n",
       "4      17\n",
       "9      14\n",
       "2       8\n",
       "7       6\n",
       "5       2\n",
       "3       2\n",
       "Name: Recommend, dtype: int64"
      ]
     },
     "execution_count": 46,
     "metadata": {},
     "output_type": "execute_result"
    }
   ],
   "source": [
    "final_2016[\"Recommend\"].value_counts()"
   ]
  },
  {
   "cell_type": "markdown",
   "metadata": {},
   "source": [
    "### Pacing distribution"
   ]
  },
  {
   "cell_type": "code",
   "execution_count": 47,
   "metadata": {},
   "outputs": [
    {
     "data": {
      "text/plain": [
       "array([[<matplotlib.axes._subplots.AxesSubplot object at 0x104a1da90>]],\n",
       "      dtype=object)"
      ]
     },
     "execution_count": 47,
     "metadata": {},
     "output_type": "execute_result"
    },
    {
     "data": {
      "image/png": "[encoded data removed]",
      "text/plain": [
       "<Figure size 432x288 with 1 Axes>"
      ]
     },
     "metadata": {
      "needs_background": "light"
     },
     "output_type": "display_data"
    }
   ],
   "source": [
    "final_2016.hist(column=\"Pacing\", bins=5)"
   ]
  },
  {
   "cell_type": "code",
   "execution_count": 48,
   "metadata": {},
   "outputs": [],
   "source": [
    "## Getting the Location values to use for pie chart representaion"
   ]
  },
  {
   "cell_type": "code",
   "execution_count": 49,
   "metadata": {},
   "outputs": [
    {
     "name": "stdout",
     "output_type": "stream",
     "text": [
      "[329, 324, 181, 62, 53, 23, 13, 6] ['Sunnyvale', 'San Francisco', 'New York City', 'Los Angeles', 'Singapore', 'Taipei', 'Tokyo', 'Hong Kong']\n"
     ]
    }
   ],
   "source": [
    "final_2016[\"Location\"].unique()\n",
    "\n",
    "values = final_2016[\"Location\"].value_counts().keys().tolist()\n",
    "sizes = final_2016[\"Location\"].value_counts().tolist()\n",
    "print(sizes, values)"
   ]
  },
  {
   "cell_type": "markdown",
   "metadata": {},
   "source": [
    "### Pie chart representation of location based on antandees(except 3 location showed low number of students)"
   ]
  },
  {
   "cell_type": "code",
   "execution_count": 50,
   "metadata": {},
   "outputs": [],
   "source": [
    "# labels = 'SV', 'SF', 'NY', 'LA', 'SG'\n",
    "# sizes = [313, 295, 169, 59, 48]\n",
    "# colors = ['gold', 'yellowgreen', 'lightcoral', 'lightskyblue', 'red']\n",
    "# explode = (0.1, 0, 0, 0, 0)  # explode 1st slice\n",
    " \n",
    "# # Plot\n",
    "# plt.pie(sizes, explode=explode, labels=labels, colors=colors,\n",
    "# autopct='%1.1f%%', shadow=True, startangle=140)\n",
    " \n",
    "# plt.axis('equal')\n",
    "# plt.show()\n",
    "\n"
   ]
  },
  {
   "cell_type": "code",
   "execution_count": 51,
   "metadata": {},
   "outputs": [
    {
     "data": {
      "text/plain": [
       "Sunnyvale        329\n",
       "San Francisco    324\n",
       "New York City    181\n",
       "Los Angeles       62\n",
       "Singapore         53\n",
       "Taipei            23\n",
       "Tokyo             13\n",
       "Hong Kong          6\n",
       "Name: Location, dtype: int64"
      ]
     },
     "execution_count": 51,
     "metadata": {},
     "output_type": "execute_result"
    }
   ],
   "source": [
    "final_2016[\"Location\"].value_counts(dropna=False)"
   ]
  },
  {
   "cell_type": "code",
   "execution_count": 52,
   "metadata": {},
   "outputs": [
    {
     "data": {
      "text/plain": [
       "Sunnyvale        329\n",
       "San Francisco    324\n",
       "New York City    181\n",
       "Los Angeles       62\n",
       "Singapore         53\n",
       "Taipei            23\n",
       "Tokyo             13\n",
       "Hong Kong          6\n",
       "Name: Location, dtype: int64"
      ]
     },
     "execution_count": 52,
     "metadata": {},
     "output_type": "execute_result"
    }
   ],
   "source": [
    "final_2016[\"Location\"].value_counts()"
   ]
  },
  {
   "cell_type": "markdown",
   "metadata": {},
   "source": [
    "## MERGING DF-2016 with DF-2017!\n",
    "\n",
    "---"
   ]
  },
  {
   "cell_type": "markdown",
   "metadata": {},
   "source": [
    "### 2016 Dataset"
   ]
  },
  {
   "cell_type": "code",
   "execution_count": 70,
   "metadata": {},
   "outputs": [
    {
     "data": {
      "text/plain": [
       "991"
      ]
     },
     "execution_count": 70,
     "metadata": {},
     "output_type": "execute_result"
    }
   ],
   "source": [
    "final_2016.head(3)\n",
    "len(final_2016)"
   ]
  },
  {
   "cell_type": "markdown",
   "metadata": {},
   "source": [
    "### 2017 Dataset"
   ]
  },
  {
   "cell_type": "code",
   "execution_count": 71,
   "metadata": {},
   "outputs": [
    {
     "data": {
      "text/plain": [
       "1450"
      ]
     },
     "execution_count": 71,
     "metadata": {},
     "output_type": "execute_result"
    }
   ],
   "source": [
    "df_2017.head(3)\n",
    "len(df_2017)"
   ]
  },
  {
   "cell_type": "markdown",
   "metadata": {},
   "source": [
    "### 2016-2017 Final Dataset"
   ]
  },
  {
   "cell_type": "code",
   "execution_count": 72,
   "metadata": {},
   "outputs": [
    {
     "name": "stderr",
     "output_type": "stream",
     "text": [
      "/anaconda3/lib/python3.7/site-packages/ipykernel_launcher.py:1: FutureWarning: Sorting because non-concatenation axis is not aligned. A future version\n",
      "of pandas will change to not sort by default.\n",
      "\n",
      "To accept the future behavior, pass 'sort=False'.\n",
      "\n",
      "To retain the current behavior and silence the warning, pass 'sort=True'.\n",
      "\n",
      "  \"\"\"Entry point for launching an IPython kernel.\n"
     ]
    }
   ],
   "source": [
    "dataset_final = pd.concat([final_2016, df_2017], ignore_index=True)"
   ]
  },
  {
   "cell_type": "code",
   "execution_count": 73,
   "metadata": {},
   "outputs": [
    {
     "data": {
      "text/html": [
       "<div>\n",
       "<style scoped>\n",
       "    .dataframe tbody tr th:only-of-type {\n",
       "        vertical-align: middle;\n",
       "    }\n",
       "\n",
       "    .dataframe tbody tr th {\n",
       "        vertical-align: top;\n",
       "    }\n",
       "\n",
       "    .dataframe thead th {\n",
       "        text-align: right;\n",
       "    }\n",
       "</style>\n",
       "<table border=\"1\" class=\"dataframe\">\n",
       "  <thead>\n",
       "    <tr style=\"text-align: right;\">\n",
       "      <th></th>\n",
       "      <th>Location</th>\n",
       "      <th>Pacing</th>\n",
       "      <th>Recommend</th>\n",
       "      <th>Track</th>\n",
       "      <th>Week</th>\n",
       "      <th>Year</th>\n",
       "    </tr>\n",
       "  </thead>\n",
       "  <tbody>\n",
       "    <tr>\n",
       "      <th>0</th>\n",
       "      <td>Los Angeles</td>\n",
       "      <td>4</td>\n",
       "      <td>6</td>\n",
       "      <td>NaN</td>\n",
       "      <td>1</td>\n",
       "      <td>2016</td>\n",
       "    </tr>\n",
       "    <tr>\n",
       "      <th>1</th>\n",
       "      <td>Los Angeles</td>\n",
       "      <td>4</td>\n",
       "      <td>8</td>\n",
       "      <td>NaN</td>\n",
       "      <td>1</td>\n",
       "      <td>2016</td>\n",
       "    </tr>\n",
       "    <tr>\n",
       "      <th>2</th>\n",
       "      <td>Los Angeles</td>\n",
       "      <td>4</td>\n",
       "      <td>8</td>\n",
       "      <td>NaN</td>\n",
       "      <td>1</td>\n",
       "      <td>2016</td>\n",
       "    </tr>\n",
       "    <tr>\n",
       "      <th>3</th>\n",
       "      <td>Los Angeles</td>\n",
       "      <td>4</td>\n",
       "      <td>8</td>\n",
       "      <td>NaN</td>\n",
       "      <td>1</td>\n",
       "      <td>2016</td>\n",
       "    </tr>\n",
       "    <tr>\n",
       "      <th>4</th>\n",
       "      <td>Los Angeles</td>\n",
       "      <td>5</td>\n",
       "      <td>8</td>\n",
       "      <td>NaN</td>\n",
       "      <td>1</td>\n",
       "      <td>2016</td>\n",
       "    </tr>\n",
       "  </tbody>\n",
       "</table>\n",
       "</div>"
      ],
      "text/plain": [
       "      Location  Pacing  Recommend Track  Week  Year\n",
       "0  Los Angeles       4          6   NaN     1  2016\n",
       "1  Los Angeles       4          8   NaN     1  2016\n",
       "2  Los Angeles       4          8   NaN     1  2016\n",
       "3  Los Angeles       4          8   NaN     1  2016\n",
       "4  Los Angeles       5          8   NaN     1  2016"
      ]
     },
     "execution_count": 73,
     "metadata": {},
     "output_type": "execute_result"
    }
   ],
   "source": [
    "dataset_final.head()"
   ]
  },
  {
   "cell_type": "code",
   "execution_count": 74,
   "metadata": {},
   "outputs": [
    {
     "data": {
      "text/html": [
       "<div>\n",
       "<style scoped>\n",
       "    .dataframe tbody tr th:only-of-type {\n",
       "        vertical-align: middle;\n",
       "    }\n",
       "\n",
       "    .dataframe tbody tr th {\n",
       "        vertical-align: top;\n",
       "    }\n",
       "\n",
       "    .dataframe thead th {\n",
       "        text-align: right;\n",
       "    }\n",
       "</style>\n",
       "<table border=\"1\" class=\"dataframe\">\n",
       "  <thead>\n",
       "    <tr style=\"text-align: right;\">\n",
       "      <th></th>\n",
       "      <th>Location</th>\n",
       "      <th>Track</th>\n",
       "      <th>Week</th>\n",
       "      <th>Pacing</th>\n",
       "      <th>Recommend</th>\n",
       "      <th>Year</th>\n",
       "    </tr>\n",
       "  </thead>\n",
       "  <tbody>\n",
       "    <tr>\n",
       "      <th>0</th>\n",
       "      <td>Los Angeles</td>\n",
       "      <td>NaN</td>\n",
       "      <td>1</td>\n",
       "      <td>4</td>\n",
       "      <td>6</td>\n",
       "      <td>2016</td>\n",
       "    </tr>\n",
       "    <tr>\n",
       "      <th>1</th>\n",
       "      <td>Los Angeles</td>\n",
       "      <td>NaN</td>\n",
       "      <td>1</td>\n",
       "      <td>4</td>\n",
       "      <td>8</td>\n",
       "      <td>2016</td>\n",
       "    </tr>\n",
       "    <tr>\n",
       "      <th>2</th>\n",
       "      <td>Los Angeles</td>\n",
       "      <td>NaN</td>\n",
       "      <td>1</td>\n",
       "      <td>4</td>\n",
       "      <td>8</td>\n",
       "      <td>2016</td>\n",
       "    </tr>\n",
       "  </tbody>\n",
       "</table>\n",
       "</div>"
      ],
      "text/plain": [
       "      Location Track  Week  Pacing  Recommend  Year\n",
       "0  Los Angeles   NaN     1       4          6  2016\n",
       "1  Los Angeles   NaN     1       4          8  2016\n",
       "2  Los Angeles   NaN     1       4          8  2016"
      ]
     },
     "execution_count": 74,
     "metadata": {},
     "output_type": "execute_result"
    }
   ],
   "source": [
    "desired_order = [\"Location\", \"Track\", \"Week\", \"Pacing\", \"Recommend\", \"Year\"]\n",
    "dataset_final = dataset_final[desired_order]\n",
    "dataset_final.head(3)"
   ]
  },
  {
   "cell_type": "code",
   "execution_count": 75,
   "metadata": {},
   "outputs": [
    {
     "data": {
      "text/plain": [
       "array(['Los Angeles', 'New York City', 'San Francisco', 'Singapore',\n",
       "       'Sunnyvale', 'Hong Kong', 'Taipei', 'Tokyo', nan, 'Redwood City',\n",
       "       'Santa Clara', 'Oakland', 'Washington DC', 'Chicago', 'Atlanta',\n",
       "       'Beijing'], dtype=object)"
      ]
     },
     "execution_count": 75,
     "metadata": {},
     "output_type": "execute_result"
    }
   ],
   "source": [
    "dataset_final[\"Location\"].unique()"
   ]
  },
  {
   "cell_type": "code",
   "execution_count": 76,
   "metadata": {},
   "outputs": [
    {
     "data": {
      "text/plain": [
       "array([nan, 'Games', 'Apps', 'Intro', 'VR'], dtype=object)"
      ]
     },
     "execution_count": 76,
     "metadata": {},
     "output_type": "execute_result"
    }
   ],
   "source": [
    "dataset_final[\"Track\"].unique()"
   ]
  },
  {
   "cell_type": "code",
   "execution_count": 77,
   "metadata": {},
   "outputs": [
    {
     "data": {
      "text/plain": [
       "array([ 6,  8, 10,  4,  2,  3,  9,  7,  5,  0,  1])"
      ]
     },
     "execution_count": 77,
     "metadata": {},
     "output_type": "execute_result"
    }
   ],
   "source": [
    "dataset_final[\"Recommend\"].unique()"
   ]
  },
  {
   "cell_type": "code",
   "execution_count": 78,
   "metadata": {},
   "outputs": [
    {
     "data": {
      "text/plain": [
       "array([4, 5, 3, 2, 1, 0])"
      ]
     },
     "execution_count": 78,
     "metadata": {},
     "output_type": "execute_result"
    }
   ],
   "source": [
    "dataset_final[\"Pacing\"].unique()"
   ]
  },
  {
   "cell_type": "markdown",
   "metadata": {},
   "source": [
    "### From above observation I know only location and track columns has NaN values so\n",
    "### I will replace them with \"Unknown\" and \"Unspecified\" respectively "
   ]
  },
  {
   "cell_type": "code",
   "execution_count": 79,
   "metadata": {},
   "outputs": [],
   "source": [
    "dataset_final[\"Location\"] = dataset_final[\"Location\"].fillna(\"Unknown\")\n",
    "dataset_final[\"Track\"] = dataset_final[\"Track\"].fillna(\"Unspecified\")"
   ]
  },
  {
   "cell_type": "code",
   "execution_count": 80,
   "metadata": {},
   "outputs": [
    {
     "data": {
      "text/plain": [
       "San Francisco    684\n",
       "New York City    511\n",
       "Sunnyvale        329\n",
       "Santa Clara      201\n",
       "Los Angeles      168\n",
       "Tokyo             78\n",
       "Beijing           78\n",
       "Chicago           70\n",
       "Redwood City      58\n",
       "Singapore         53\n",
       "Oakland           47\n",
       "Washington DC     47\n",
       "Unknown           44\n",
       "Atlanta           33\n",
       "Taipei            23\n",
       "Hong Kong         17\n",
       "Name: Location, dtype: int64"
      ]
     },
     "execution_count": 80,
     "metadata": {},
     "output_type": "execute_result"
    }
   ],
   "source": [
    "dataset_final[\"Location\"].value_counts()"
   ]
  },
  {
   "cell_type": "code",
   "execution_count": 81,
   "metadata": {
    "scrolled": true
   },
   "outputs": [
    {
     "data": {
      "text/plain": [
       "Apps           1520\n",
       "Games           455\n",
       "Intro           211\n",
       "Unspecified     162\n",
       "VR               93\n",
       "Name: Track, dtype: int64"
      ]
     },
     "execution_count": 81,
     "metadata": {},
     "output_type": "execute_result"
    }
   ],
   "source": [
    "dataset_final[\"Track\"].value_counts()"
   ]
  },
  {
   "cell_type": "code",
   "execution_count": 86,
   "metadata": {},
   "outputs": [
    {
     "data": {
      "text/html": [
       "<div>\n",
       "<style scoped>\n",
       "    .dataframe tbody tr th:only-of-type {\n",
       "        vertical-align: middle;\n",
       "    }\n",
       "\n",
       "    .dataframe tbody tr th {\n",
       "        vertical-align: top;\n",
       "    }\n",
       "\n",
       "    .dataframe thead th {\n",
       "        text-align: right;\n",
       "    }\n",
       "</style>\n",
       "<table border=\"1\" class=\"dataframe\">\n",
       "  <thead>\n",
       "    <tr style=\"text-align: right;\">\n",
       "      <th></th>\n",
       "      <th>Location</th>\n",
       "      <th>Track</th>\n",
       "      <th>Week</th>\n",
       "      <th>Pacing</th>\n",
       "      <th>Recommend</th>\n",
       "      <th>Year</th>\n",
       "    </tr>\n",
       "  </thead>\n",
       "  <tbody>\n",
       "    <tr>\n",
       "      <th>2436</th>\n",
       "      <td>New York City</td>\n",
       "      <td>Apps</td>\n",
       "      <td>7</td>\n",
       "      <td>3</td>\n",
       "      <td>10</td>\n",
       "      <td>2017</td>\n",
       "    </tr>\n",
       "    <tr>\n",
       "      <th>2437</th>\n",
       "      <td>New York City</td>\n",
       "      <td>Apps</td>\n",
       "      <td>7</td>\n",
       "      <td>3</td>\n",
       "      <td>8</td>\n",
       "      <td>2017</td>\n",
       "    </tr>\n",
       "    <tr>\n",
       "      <th>2438</th>\n",
       "      <td>New York City</td>\n",
       "      <td>Apps</td>\n",
       "      <td>7</td>\n",
       "      <td>3</td>\n",
       "      <td>10</td>\n",
       "      <td>2017</td>\n",
       "    </tr>\n",
       "    <tr>\n",
       "      <th>2439</th>\n",
       "      <td>New York City</td>\n",
       "      <td>Apps</td>\n",
       "      <td>7</td>\n",
       "      <td>2</td>\n",
       "      <td>1</td>\n",
       "      <td>2017</td>\n",
       "    </tr>\n",
       "    <tr>\n",
       "      <th>2440</th>\n",
       "      <td>New York City</td>\n",
       "      <td>Apps</td>\n",
       "      <td>5</td>\n",
       "      <td>3</td>\n",
       "      <td>8</td>\n",
       "      <td>2017</td>\n",
       "    </tr>\n",
       "  </tbody>\n",
       "</table>\n",
       "</div>"
      ],
      "text/plain": [
       "           Location Track  Week  Pacing  Recommend  Year\n",
       "2436  New York City  Apps     7       3         10  2017\n",
       "2437  New York City  Apps     7       3          8  2017\n",
       "2438  New York City  Apps     7       3         10  2017\n",
       "2439  New York City  Apps     7       2          1  2017\n",
       "2440  New York City  Apps     5       3          8  2017"
      ]
     },
     "execution_count": 86,
     "metadata": {},
     "output_type": "execute_result"
    }
   ],
   "source": [
    "dataset_final.tail()"
   ]
  },
  {
   "cell_type": "markdown",
   "metadata": {},
   "source": [
    "# Make School Summer Academy Dataset"
   ]
  },
  {
   "cell_type": "markdown",
   "metadata": {},
   "source": [
    "### NPS for 2016 "
   ]
  },
  {
   "cell_type": "code",
   "execution_count": 89,
   "metadata": {},
   "outputs": [
    {
     "name": "stdout",
     "output_type": "stream",
     "text": [
      "Detractors: 153, Promoters: 397, Total Number: 991\n",
      "NPS for 2016 is: 25%\n"
     ]
    }
   ],
   "source": [
    "detractors_2016 = len(final_2016[(final_2016[\"Recommend\"] <= 6) & (final_2016[\"Recommend\"] >= 1)])\n",
    "promoters_2016 = len(final_2016[final_2016[\"Recommend\"] > 8])\n",
    "total_2016 = len(final_2016[\"Recommend\"])\n",
    "print(\"Detractors: {}, Promoters: {}, Total Number: {}\".format(detractors_2016, promoters_2016, total_2016))\n",
    "\n",
    "NPS_2016 =((promoters_2016 - detractors_2016)/total_2016)*100\n",
    "print(\"NPS for 2016 is: {}%\".format(round(NPS_2016)))"
   ]
  },
  {
   "cell_type": "markdown",
   "metadata": {},
   "source": [
    "### NPS for 2017"
   ]
  },
  {
   "cell_type": "code",
   "execution_count": 90,
   "metadata": {},
   "outputs": [
    {
     "name": "stdout",
     "output_type": "stream",
     "text": [
      "Detractors: 119, Promoters: 760, Total Number: 1450\n",
      "NPS for 2017 is: 44%\n"
     ]
    }
   ],
   "source": [
    "detractors_2017 = len(df_2017[(df_2017[\"Recommend\"] <= 6) & (df_2017[\"Recommend\"] >= 1)])\n",
    "promoters_2017 = len(df_2017[df_2017[\"Recommend\"] > 8])\n",
    "total_2017 = len(df_2017[\"Recommend\"])\n",
    "print(\"Detractors: {}, Promoters: {}, Total Number: {}\".format(detractors_2017, promoters_2017, total_2017))\n",
    "\n",
    "NPS_2017 =((promoters_2017 - detractors_2017)/total_2017)*100\n",
    "print(\"NPS for 2017 is: {}%\".format(round(NPS_2017)))"
   ]
  },
  {
   "cell_type": "markdown",
   "metadata": {},
   "source": [
    "### NPS for 2016 and 2017 combined"
   ]
  },
  {
   "cell_type": "code",
   "execution_count": 91,
   "metadata": {},
   "outputs": [
    {
     "name": "stdout",
     "output_type": "stream",
     "text": [
      "Detractors: 272,dataset_finalPromoters: 1157, Total Number: 2441\n",
      "NPS for two years 2016 and 2017 is: 36%\n"
     ]
    }
   ],
   "source": [
    "detractors_final = len(dataset_final[(dataset_final[\"Recommend\"] <= 6) & (dataset_final[\"Recommend\"] >= 1)])\n",
    "promoters_final = len(dataset_final[dataset_final[\"Recommend\"] > 8])\n",
    "total_final = len(dataset_final[\"Recommend\"])\n",
    "print(\"Detractors: {},dataset_finalPromoters: {}, Total Number: {}\".format(detractors_final, promoters_final, total_final))\n",
    "\n",
    "NPS_final =((promoters_final - detractors_final)/total_final)*100\n",
    "print(\"NPS for two years 2016 and 2017 is: {}%\".format(round(NPS_final)))"
   ]
  },
  {
   "cell_type": "markdown",
   "metadata": {},
   "source": [
    "## Here goes the comparison between 2016 and 2017 data\n",
    "## Question:\n",
    "    1. How much did the promoters have been increased or decreased over two years?\n",
    "    2. What location has more number of promoters? \n",
    "    3. How does the pacing change over week 1-8? \n",
    "    4. What track has more promoters and detractors? \n",
    "    5. Is there any relation between track and pacing?"
   ]
  },
  {
   "cell_type": "code",
   "execution_count": 112,
   "metadata": {},
   "outputs": [
    {
     "name": "stderr",
     "output_type": "stream",
     "text": [
      "/anaconda3/lib/python3.7/site-packages/scipy/stats/stats.py:1713: FutureWarning: Using a non-tuple sequence for multidimensional indexing is deprecated; use `arr[tuple(seq)]` instead of `arr[seq]`. In the future this will be interpreted as an array index, `arr[np.array(seq)]`, which will result either in an error or a different result.\n",
      "  return np.add.reduce(sorted[indexer] * weights, axis=axis) / sumval\n"
     ]
    },
    {
     "data": {
      "text/plain": [
       "<matplotlib.axes._subplots.AxesSubplot at 0x1a1acabcf8>"
      ]
     },
     "execution_count": 112,
     "metadata": {},
     "output_type": "execute_result"
    },
    {
     "data": {
      "image/png": "[encoded data removed]",
      "text/plain": [
       "<Figure size 432x288 with 1 Axes>"
      ]
     },
     "metadata": {
      "needs_background": "light"
     },
     "output_type": "display_data"
    }
   ],
   "source": [
    "\n",
    "sns.regplot(x=np.array([1, 2, 3, 4, 5]), y=np.array([30, 32, 34, 36, 40]))"
   ]
  },
  {
   "cell_type": "markdown",
   "metadata": {},
   "source": [
    "### Creating Stacked Barplot for 2016 vs. 2017 NPS Categorical Counts"
   ]
  },
  {
   "cell_type": "code",
   "execution_count": 103,
   "metadata": {},
   "outputs": [],
   "source": [
    "def nps_by_year_plot(stack=False):\n",
    "    dets = [detractors_2016, detractors_2017, detractors_final]\n",
    "    pros = [promoters_2016, promoters_2017, promoters_final]\n",
    "    N, WIDTH = 3, 0.35\n",
    "\n",
    "    x_indices = np.arange(N)\n",
    "\n",
    "    if stack:\n",
    "        p1 = plt.bar(x_indices, pros, WIDTH, color=\"b\")\n",
    "        p2 = plt.bar(x_indices, dets, WIDTH, color=\"r\")\n",
    "    else:\n",
    "        p1 = plt.bar(x_indices, pros, WIDTH, color=\"b\")\n",
    "        p2 = plt.bar(x_indices + WIDTH, dets, WIDTH, color=\"r\")\n",
    "\n",
    "    plt.ylabel(\"Count\")\n",
    "    plt.title('NPS Groups Between 2016 and 2017')\n",
    "    plt.xticks(x_indices, (\"2016\", \"2017\", \"Total\"))\n",
    "    plt.legend((p1[0], p2[0]), ('Promoters', 'Detractors'))"
   ]
  },
  {
   "cell_type": "code",
   "execution_count": 106,
   "metadata": {},
   "outputs": [
    {
     "data": {
      "image/png": "[encoded data removed]",
      "text/plain": [
       "<Figure size 432x288 with 1 Axes>"
      ]
     },
     "metadata": {
      "needs_background": "light"
     },
     "output_type": "display_data"
    }
   ],
   "source": [
    "nps_by_year_plot()"
   ]
  },
  {
   "cell_type": "markdown",
   "metadata": {},
   "source": [
    "#### 1. How much did the promoters have been increased or decreased over two years?"
   ]
  },
  {
   "cell_type": "code",
   "execution_count": null,
   "metadata": {},
   "outputs": [],
   "source": []
  },
  {
   "cell_type": "markdown",
   "metadata": {},
   "source": [
    "#### 2. What location has more number of promoters? "
   ]
  },
  {
   "cell_type": "code",
   "execution_count": null,
   "metadata": {},
   "outputs": [],
   "source": []
  },
  {
   "cell_type": "markdown",
   "metadata": {},
   "source": [
    "#### 3. Number of people by locations(final data)"
   ]
  },
  {
   "cell_type": "code",
   "execution_count": 122,
   "metadata": {},
   "outputs": [
    {
     "data": {
      "text/plain": [
       "<matplotlib.axes._subplots.AxesSubplot at 0x1a1b71f5c0>"
      ]
     },
     "execution_count": 122,
     "metadata": {},
     "output_type": "execute_result"
    },
    {
     "data": {
      "image/png": "[encoded data removed]",
      "text/plain": [
       "<Figure size 432x288 with 1 Axes>"
      ]
     },
     "metadata": {
      "needs_background": "light"
     },
     "output_type": "display_data"
    }
   ],
   "source": [
    "# Location Represention in terms of the number of submitted data \n",
    "dataset_final['Location'].value_counts().plot(kind='bar')"
   ]
  },
  {
   "cell_type": "code",
   "execution_count": null,
   "metadata": {},
   "outputs": [],
   "source": []
  }
 ],
 "metadata": {
  "kernelspec": {
   "display_name": "Python 3",
   "language": "python",
   "name": "python3"
  },
  "language_info": {
   "codemirror_mode": {
    "name": "ipython",
    "version": 3
   },
   "file_extension": ".py",
   "mimetype": "text/x-python",
   "name": "python",
   "nbconvert_exporter": "python",
   "pygments_lexer": "ipython3",
   "version": "3.7.1"
  }
 },
 "nbformat": 4,
 "nbformat_minor": 2
}
