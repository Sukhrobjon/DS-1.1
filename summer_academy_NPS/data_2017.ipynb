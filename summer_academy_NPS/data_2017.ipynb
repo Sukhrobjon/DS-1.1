{
 "cells": [
  {
   "cell_type": "code",
   "execution_count": 2,
   "metadata": {},
   "outputs": [],
   "source": [
    "import pandas as pd\n",
    "import numpy as np\n",
    "PATH = \"./2017/Student Feedback Surveys-Superview.csv\""
   ]
  },
  {
   "cell_type": "code",
   "execution_count": 3,
   "metadata": {},
   "outputs": [],
   "source": [
    "df = pd.read_csv(PATH)"
   ]
  },
  {
   "cell_type": "code",
   "execution_count": 4,
   "metadata": {},
   "outputs": [
    {
     "data": {
      "text/html": [
       "<div>\n",
       "<style scoped>\n",
       "    .dataframe tbody tr th:only-of-type {\n",
       "        vertical-align: middle;\n",
       "    }\n",
       "\n",
       "    .dataframe tbody tr th {\n",
       "        vertical-align: top;\n",
       "    }\n",
       "\n",
       "    .dataframe thead th {\n",
       "        text-align: right;\n",
       "    }\n",
       "</style>\n",
       "<table border=\"1\" class=\"dataframe\">\n",
       "  <thead>\n",
       "    <tr style=\"text-align: right;\">\n",
       "      <th></th>\n",
       "      <th>ID</th>\n",
       "      <th>Location</th>\n",
       "      <th>Track</th>\n",
       "      <th>Week</th>\n",
       "      <th>Rating (Num)</th>\n",
       "      <th>Schedule Pacing</th>\n",
       "    </tr>\n",
       "  </thead>\n",
       "  <tbody>\n",
       "    <tr>\n",
       "      <th>0</th>\n",
       "      <td>134</td>\n",
       "      <td>San Francisco</td>\n",
       "      <td>Apps, Explorer</td>\n",
       "      <td>Week 1</td>\n",
       "      <td>3</td>\n",
       "      <td>Just right</td>\n",
       "    </tr>\n",
       "    <tr>\n",
       "      <th>1</th>\n",
       "      <td>36</td>\n",
       "      <td>Los Angeles</td>\n",
       "      <td>Apps</td>\n",
       "      <td>Week 1</td>\n",
       "      <td>4</td>\n",
       "      <td>A little too fast</td>\n",
       "    </tr>\n",
       "    <tr>\n",
       "      <th>2</th>\n",
       "      <td>117</td>\n",
       "      <td>San Francisco</td>\n",
       "      <td>Games</td>\n",
       "      <td>Week 1</td>\n",
       "      <td>4</td>\n",
       "      <td>Way too slow</td>\n",
       "    </tr>\n",
       "    <tr>\n",
       "      <th>3</th>\n",
       "      <td>253</td>\n",
       "      <td>NaN</td>\n",
       "      <td>NaN</td>\n",
       "      <td>Week 2</td>\n",
       "      <td>4</td>\n",
       "      <td>A little too fast</td>\n",
       "    </tr>\n",
       "    <tr>\n",
       "      <th>4</th>\n",
       "      <td>350</td>\n",
       "      <td>New York City</td>\n",
       "      <td>Apps, Explorer</td>\n",
       "      <td>Week 1</td>\n",
       "      <td>4</td>\n",
       "      <td>Just right</td>\n",
       "    </tr>\n",
       "  </tbody>\n",
       "</table>\n",
       "</div>"
      ],
      "text/plain": [
       "    ID       Location           Track    Week Rating (Num)    Schedule Pacing\n",
       "0  134  San Francisco  Apps, Explorer  Week 1            3         Just right\n",
       "1   36    Los Angeles            Apps  Week 1            4  A little too fast\n",
       "2  117  San Francisco           Games  Week 1            4       Way too slow\n",
       "3  253            NaN             NaN  Week 2            4  A little too fast\n",
       "4  350  New York City  Apps, Explorer  Week 1            4         Just right"
      ]
     },
     "execution_count": 4,
     "metadata": {},
     "output_type": "execute_result"
    }
   ],
   "source": [
    "df.head()"
   ]
  },
  {
   "cell_type": "code",
   "execution_count": 4,
   "metadata": {},
   "outputs": [
    {
     "data": {
      "text/plain": [
       "San Francisco    360\n",
       "New York City    330\n",
       "Santa Clara      201\n",
       "Los Angeles      106\n",
       "Beijing           78\n",
       "Chicago           70\n",
       "Tokyo             65\n",
       "Redwood City      58\n",
       "Washington DC     47\n",
       "Oakland           47\n",
       "Atlanta           33\n",
       "Hong Kong         11\n",
       "Name: Location, dtype: int64"
      ]
     },
     "execution_count": 4,
     "metadata": {},
     "output_type": "execute_result"
    }
   ],
   "source": [
    "df['Location'].value_counts()"
   ]
  },
  {
   "cell_type": "code",
   "execution_count": 7,
   "metadata": {},
   "outputs": [
    {
     "data": {
      "text/plain": [
       "array(['3', '4', '5', '6', '7', '8', '9', '10', '0', '1', '2', '#ERROR!'],\n",
       "      dtype=object)"
      ]
     },
     "execution_count": 7,
     "metadata": {},
     "output_type": "execute_result"
    }
   ],
   "source": [
    "df[\"Rating (Num)\"].unique()"
   ]
  },
  {
   "cell_type": "code",
   "execution_count": 5,
   "metadata": {},
   "outputs": [
    {
     "data": {
      "text/plain": [
       "array(['Just right', 'A little too fast', 'Way too slow',\n",
       "       'A little too slow', 'Way too fast', nan], dtype=object)"
      ]
     },
     "execution_count": 5,
     "metadata": {},
     "output_type": "execute_result"
    }
   ],
   "source": [
    "df[\"Schedule Pacing\"].unique()\n",
    "[, ]"
   ]
  },
  {
   "cell_type": "code",
   "execution_count": 8,
   "metadata": {},
   "outputs": [
    {
     "data": {
      "text/plain": [
       "San Francisco    360\n",
       "New York City    330\n",
       "Santa Clara      201\n",
       "Los Angeles      106\n",
       "Beijing           78\n",
       "Chicago           70\n",
       "Tokyo             65\n",
       "Redwood City      58\n",
       "Oakland           47\n",
       "Washington DC     47\n",
       "NaN               47\n",
       "Atlanta           33\n",
       "Hong Kong         11\n",
       "Name: Location, dtype: int64"
      ]
     },
     "execution_count": 8,
     "metadata": {},
     "output_type": "execute_result"
    }
   ],
   "source": [
    "df[\"Location\"].value_counts(dropna=Falselse)"
   ]
  },
  {
   "cell_type": "code",
   "execution_count": 10,
   "metadata": {},
   "outputs": [
    {
     "data": {
      "text/plain": [
       "array(['Apps, Explorer', 'Apps', 'Games', nan, 'VR', 'Games, Explorer'],\n",
       "      dtype=object)"
      ]
     },
     "execution_count": 10,
     "metadata": {},
     "output_type": "execute_result"
    }
   ],
   "source": [
    "df[\"Track\"].unique()"
   ]
  },
  {
   "cell_type": "code",
   "execution_count": null,
   "metadata": {},
   "outputs": [],
   "source": []
  }
 ],
 "metadata": {
  "kernelspec": {
   "display_name": "Python 3",
   "language": "python",
   "name": "python3"
  },
  "language_info": {
   "codemirror_mode": {
    "name": "ipython",
    "version": 3
   },
   "file_extension": ".py",
   "mimetype": "text/x-python",
   "name": "python",
   "nbconvert_exporter": "python",
   "pygments_lexer": "ipython3",
   "version": "3.7.1"
  }
 },
 "nbformat": 4,
 "nbformat_minor": 2
}
