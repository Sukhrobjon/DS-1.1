{
 "cells": [
  {
   "cell_type": "markdown",
   "metadata": {},
   "source": [
    "## Pandas functions"
   ]
  },
  {
   "cell_type": "code",
   "execution_count": 4,
   "metadata": {},
   "outputs": [],
   "source": [
    "### Pandas\n",
    "# 1. describe()\n",
    "# 2. value_counts\n",
    "# 3. unique()\n",
    "# 4. apply()\n",
    "# 5. isna()\n",
    "# 6. map()\n",
    "# 7 groupby()\n",
    "# 8. crosstab\n",
    "# 9. loc[]=> slicing by column name\n",
    "# 10. iloc=> slicing by index\n",
    "# 11. sort_values()\n",
    "# 12. drop\n",
    "# 13. nlargest('c', 4)\n",
    "# 14. merge\n",
    "# 15. concate\n",
    "# 16. append"
   ]
  },
  {
   "cell_type": "markdown",
   "metadata": {},
   "source": [
    "## Visualization"
   ]
  },
  {
   "cell_type": "code",
   "execution_count": null,
   "metadata": {},
   "outputs": [],
   "source": [
    "# hist\n",
    "# box\n",
    "# scatter <=> regplot\n",
    "# barplot\n",
    "# countplot\n",
    "# heatmap"
   ]
  }
 ],
 "metadata": {
  "kernelspec": {
   "display_name": "Python 3",
   "language": "python",
   "name": "python3"
  },
  "language_info": {
   "codemirror_mode": {
    "name": "ipython",
    "version": 3
   },
   "file_extension": ".py",
   "mimetype": "text/x-python",
   "name": "python",
   "nbconvert_exporter": "python",
   "pygments_lexer": "ipython3",
   "version": "3.7.1"
  }
 },
 "nbformat": 4,
 "nbformat_minor": 2
}
