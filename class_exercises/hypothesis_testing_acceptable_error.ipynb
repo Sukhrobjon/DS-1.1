{
 "cells": [
  {
   "cell_type": "markdown",
   "metadata": {},
   "source": [
    "## First pair programming in class\n",
    "## Partners: Jamie and Sukhrobjon\n",
    "### Date: [02/25/2019]"
   ]
  },
  {
   "cell_type": "code",
   "execution_count": 1,
   "metadata": {},
   "outputs": [],
   "source": [
    "import pandas as pd\n",
    "import seaborn as sns\n",
    "import matplotlib.pyplot as plt\n",
    "import scipy.stats as st\n",
    "import math\n",
    "import numpy as np\n",
    "from scipy import stats"
   ]
  },
  {
   "cell_type": "code",
   "execution_count": null,
   "metadata": {},
   "outputs": [],
   "source": []
  },
  {
   "cell_type": "code",
   "execution_count": null,
   "metadata": {},
   "outputs": [],
   "source": []
  },
  {
   "cell_type": "code",
   "execution_count": 2,
   "metadata": {},
   "outputs": [],
   "source": [
    "def accept_or_reject_null_hypothesis(mu, sample_mean, significant_level, N, sigma):\n",
    "    # Calculate standard deviation of the sampling distribution\n",
    "    \n",
    "    sample_std = sigma / math.sqrt(N)\n",
    "    # Calculate z-score from population mean (mu), sample mean and sample std\n",
    "\n",
    "    z = (sample_mean - mu) / sample_std\n",
    "    # Calculate p-value from z-score\n",
    "    p_value = 2 * st.norm.cdf(-np.abs(z))\n",
    "    # Determine whether to accept or reject null hypothesis\n",
    "    if p_value < significant_level:\n",
    "        print('reject null hypothesis')\n",
    "    else:\n",
    "        print('accept null hypothesis')"
   ]
  },
  {
   "cell_type": "code",
   "execution_count": 3,
   "metadata": {},
   "outputs": [
    {
     "name": "stdout",
     "output_type": "stream",
     "text": [
      "reject null hypothesis\n"
     ]
    }
   ],
   "source": [
    "mu = 1.2\n",
    "bar_x = 1.05\n",
    "N = 100 \n",
    "sigma = 0.5\n",
    "alpha = 0.05\n",
    "accept_or_reject_null_hypothesis(mu, bar_x, alpha, N, sigma)"
   ]
  },
  {
   "cell_type": "markdown",
   "metadata": {},
   "source": [
    "## Activity: t-test\n",
    "\n",
    "### The average British man is 175.3 cm tall. A survey recorded the heights of 10 British men. Calculate the t-score from formula and use available function in stats.ttest_1samp. Compare what you will get x = [177.3, 182.7, 169.6, 176.3, 180.3, 179.4, 178.5, 177.2, 181.8, 176.5]\n",
    "\n"
   ]
  },
  {
   "cell_type": "code",
   "execution_count": 4,
   "metadata": {},
   "outputs": [
    {
     "name": "stdout",
     "output_type": "stream",
     "text": [
      "t-statistic:  2.295568968083183\n",
      "t =  2.295568968083183 , p =  0.04734137339747034\n"
     ]
    }
   ],
   "source": [
    "x = [177.3, 182.7, 169.6, 176.3, 180.3, 179.4, 178.5, 177.2, 181.8, 176.5]\n",
    "mu = 175.3\n",
    "sample_mean = np.array(x).mean()\n",
    "\n",
    "# Calculate the standard deviation of sample distribution\n",
    "\n",
    "N = len(x) # number of data samples\n",
    "SE = np.array(x).std(ddof=1) /np.sqrt(N)\n",
    "\n",
    "# t-test from formula\n",
    "t = (sample_mean - mu)/SE\n",
    "print(\"t-statistic: \",t)\n",
    "\n",
    "# one sample t-test that gives you the p-value too can be done with scipy as follows:\n",
    "t, p = stats.ttest_1samp(x, mu)\n",
    "print(\"t = \", t, \", p = \", p)"
   ]
  },
  {
   "cell_type": "code",
   "execution_count": 5,
   "metadata": {},
   "outputs": [],
   "source": [
    "def z_t_null_hypothesis(data_sample, mu, sigma, significant_level):\n",
    "    if sigma:\n",
    "        z_score = (np.mean(data_sample)-mu)/(sigma/np.sqrt(len(data_sample)))\n",
    "        p = stats.norm.sf(abs(z_score))*2\n",
    "    elif len(data_sample) > 30:\n",
    "        print(\"Data sample is > 30\")\n",
    "        z_score = (np.mean(data_sample)-mu)/(np.std(data_sample)/np.sqrt(len(data_sample)))\n",
    "        p = stats.norm.sf(abs(z_score))*2\n",
    "    else:\n",
    "        t, p = stats.ttest_1samp(data_sample, mu)\n",
    "    \n",
    "    print(\"p: \", p)\n",
    "    if p < significant_level:\n",
    "        print('reject null hypothesis')\n",
    "\n",
    "    else:\n",
    "        print('accept null hypothesis')"
   ]
  },
  {
   "cell_type": "code",
   "execution_count": 6,
   "metadata": {},
   "outputs": [
    {
     "name": "stdout",
     "output_type": "stream",
     "text": [
      "p:  1.6467457474609478e-63\n",
      "reject null hypothesis\n"
     ]
    }
   ],
   "source": [
    "# data_sample = [10] * 100\n",
    "data_sample = [177.3, 182.7, 169.6, 176.3, 180.3, 179.4, 178.5, 177.2, 181.8, 176.5]\n",
    "mu = 175.3\n",
    "significant_level = 0.05\n",
    "sigma = 0.5\n",
    "z_t_null_hypothesis(data_sample, mu, sigma, significant_level)\n"
   ]
  },
  {
   "cell_type": "code",
   "execution_count": 7,
   "metadata": {},
   "outputs": [
    {
     "data": {
      "text/html": [
       "<div>\n",
       "<style scoped>\n",
       "    .dataframe tbody tr th:only-of-type {\n",
       "        vertical-align: middle;\n",
       "    }\n",
       "\n",
       "    .dataframe tbody tr th {\n",
       "        vertical-align: top;\n",
       "    }\n",
       "\n",
       "    .dataframe thead th {\n",
       "        text-align: right;\n",
       "    }\n",
       "</style>\n",
       "<table border=\"1\" class=\"dataframe\">\n",
       "  <thead>\n",
       "    <tr style=\"text-align: right;\">\n",
       "      <th></th>\n",
       "      <th>sepal_length</th>\n",
       "      <th>sepal_width</th>\n",
       "      <th>petal_length</th>\n",
       "      <th>petal_width</th>\n",
       "      <th>species</th>\n",
       "    </tr>\n",
       "  </thead>\n",
       "  <tbody>\n",
       "    <tr>\n",
       "      <th>0</th>\n",
       "      <td>5.1</td>\n",
       "      <td>3.5</td>\n",
       "      <td>1.4</td>\n",
       "      <td>0.2</td>\n",
       "      <td>setosa</td>\n",
       "    </tr>\n",
       "    <tr>\n",
       "      <th>1</th>\n",
       "      <td>4.9</td>\n",
       "      <td>3.0</td>\n",
       "      <td>1.4</td>\n",
       "      <td>0.2</td>\n",
       "      <td>setosa</td>\n",
       "    </tr>\n",
       "    <tr>\n",
       "      <th>2</th>\n",
       "      <td>4.7</td>\n",
       "      <td>3.2</td>\n",
       "      <td>1.3</td>\n",
       "      <td>0.2</td>\n",
       "      <td>setosa</td>\n",
       "    </tr>\n",
       "    <tr>\n",
       "      <th>3</th>\n",
       "      <td>4.6</td>\n",
       "      <td>3.1</td>\n",
       "      <td>1.5</td>\n",
       "      <td>0.2</td>\n",
       "      <td>setosa</td>\n",
       "    </tr>\n",
       "    <tr>\n",
       "      <th>4</th>\n",
       "      <td>5.0</td>\n",
       "      <td>3.6</td>\n",
       "      <td>1.4</td>\n",
       "      <td>0.2</td>\n",
       "      <td>setosa</td>\n",
       "    </tr>\n",
       "  </tbody>\n",
       "</table>\n",
       "</div>"
      ],
      "text/plain": [
       "   sepal_length  sepal_width  petal_length  petal_width species\n",
       "0           5.1          3.5           1.4          0.2  setosa\n",
       "1           4.9          3.0           1.4          0.2  setosa\n",
       "2           4.7          3.2           1.3          0.2  setosa\n",
       "3           4.6          3.1           1.5          0.2  setosa\n",
       "4           5.0          3.6           1.4          0.2  setosa"
      ]
     },
     "execution_count": 7,
     "metadata": {},
     "output_type": "execute_result"
    }
   ],
   "source": [
    "iris = sns.load_dataset('iris')\n",
    "iris.head()"
   ]
  },
  {
   "cell_type": "markdown",
   "metadata": {},
   "source": [
    "## 1. How many features, records and plants doet it have? "
   ]
  },
  {
   "cell_type": "code",
   "execution_count": 8,
   "metadata": {},
   "outputs": [],
   "source": [
    "plants = 150\n",
    "records = None\n"
   ]
  },
  {
   "cell_type": "markdown",
   "metadata": {},
   "source": [
    "## 2. Gather all of the sepal length for Iris setosa"
   ]
  },
  {
   "cell_type": "code",
   "execution_count": 9,
   "metadata": {},
   "outputs": [
    {
     "data": {
      "text/plain": [
       "5.1    8\n",
       "5.0    8\n",
       "5.4    5\n",
       "4.8    5\n",
       "4.6    4\n",
       "4.9    4\n",
       "4.4    3\n",
       "5.2    3\n",
       "5.7    2\n",
       "4.7    2\n",
       "5.5    2\n",
       "5.3    1\n",
       "5.8    1\n",
       "4.3    1\n",
       "4.5    1\n",
       "Name: sepal_length, dtype: int64"
      ]
     },
     "execution_count": 9,
     "metadata": {},
     "output_type": "execute_result"
    }
   ],
   "source": [
    "iris[iris[\"species\"] == \"setosa\"][\"sepal_length\"].value_counts()"
   ]
  },
  {
   "cell_type": "code",
   "execution_count": 10,
   "metadata": {},
   "outputs": [
    {
     "name": "stdout",
     "output_type": "stream",
     "text": [
      "5.006\n",
      "Ci_z:  (4.908293780383348, 5.103706219616653)\n",
      "Ci_t:  (4.905823539430869, 5.106176460569132)\n"
     ]
    }
   ],
   "source": [
    "df = iris\n",
    "\n",
    "x = df[df['species'] == 'setosa']['sepal_length'].tolist()\n",
    "\n",
    "print(np.mean(x))\n",
    "\n",
    "def ci_z(data_sample, significant_level, sigma):\n",
    "    z = stats.norm.ppf(1-significant_level/2)\n",
    "    L = np.mean(data_sample) - z*sigma/np.sqrt(len(data_sample))\n",
    "    U = np.mean(data_sample) + z*sigma/np.sqrt(len(data_sample))\n",
    "    return L, U\n",
    "\n",
    "\n",
    "def ci_t(data_sample, significant_level):\n",
    "    t = stats.t.ppf(1 - significant_level/2, len(data_sample) - 1)\n",
    "    L = np.mean(data_sample) - t * np.std(data_sample, ddof=1) / np.sqrt(len(data_sample))\n",
    "    U = np.mean(data_sample) + t * np.std(data_sample, ddof=1) / np.sqrt(len(data_sample))\n",
    "    return L, U\n",
    "\n",
    "print(\"Ci_z: \",ci_z(x, 0.05, 0.3525))\n",
    "print(\"Ci_t: \",ci_t(x,0.05))"
   ]
  },
  {
   "cell_type": "code",
   "execution_count": 11,
   "metadata": {},
   "outputs": [],
   "source": [
    "### > Hypotesis testing\n",
    "#         - Pop.metrics,\n",
    "#         - null hypothisis testing\n",
    "#         - z-testing(normal data) n > 30\n",
    "#         - t-testing(less data) n < 30\n",
    "        "
   ]
  },
  {
   "cell_type": "code",
   "execution_count": 12,
   "metadata": {},
   "outputs": [],
   "source": [
    "def find_remove_outlier(data):\n",
    "    # calculate summary statistics\n",
    "    data_mean, data_std = npm.mean(data), npm.std(data)\n",
    "    "
   ]
  },
  {
   "cell_type": "code",
   "execution_count": null,
   "metadata": {},
   "outputs": [],
   "source": []
  },
  {
   "cell_type": "code",
   "execution_count": null,
   "metadata": {},
   "outputs": [],
   "source": []
  }
 ],
 "metadata": {
  "kernelspec": {
   "display_name": "Python 3",
   "language": "python",
   "name": "python3"
  },
  "language_info": {
   "codemirror_mode": {
    "name": "ipython",
    "version": 3
   },
   "file_extension": ".py",
   "mimetype": "text/x-python",
   "name": "python",
   "nbconvert_exporter": "python",
   "pygments_lexer": "ipython3",
   "version": "3.7.1"
  }
 },
 "nbformat": 4,
 "nbformat_minor": 2
}
