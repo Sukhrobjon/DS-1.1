{
 "cells": [
  {
   "cell_type": "code",
   "execution_count": 22,
   "metadata": {},
   "outputs": [],
   "source": [
    "# Some Handy Dandy Import Statements to Start Off Our Handy Dandy Little Tutorial\n",
    "from scipy import stats\n",
    "import math\n",
    "import numpy as np\n",
    "import pandas as pd\n",
    "import seaborn as sns\n",
    "import matplotlib.pyplot as plt"
   ]
  },
  {
   "cell_type": "markdown",
   "metadata": {},
   "source": [
    "## Write a function to compute the mean from an arbitrary dataset."
   ]
  },
  {
   "cell_type": "code",
   "execution_count": 3,
   "metadata": {},
   "outputs": [
    {
     "data": {
      "text/plain": [
       "4.391304347826087"
      ]
     },
     "execution_count": 3,
     "metadata": {},
     "output_type": "execute_result"
    }
   ],
   "source": [
    "data = np.array([1, 3, 5, 2, 3, 7, 8, 4, 10, 0, 6, 7, 3, 0, 3, 0, 5, 7, 10, 1, 4, 9, 3])\n",
    "\n",
    "# TODO: Complete this function by having the function return the average value of our dataset.\n",
    "def compute_mean(dataset):\n",
    "    \"\"\" Main function that calculates the average value across our data. \"\"\"\n",
    "    return sum(data)/len(data)\n",
    "\n",
    "compute_mean(data)\n"
   ]
  },
  {
   "cell_type": "code",
   "execution_count": 4,
   "metadata": {},
   "outputs": [
    {
     "data": {
      "text/plain": [
       "4.391304347826087"
      ]
     },
     "execution_count": 4,
     "metadata": {},
     "output_type": "execute_result"
    }
   ],
   "source": [
    "np.mean(data)"
   ]
  },
  {
   "cell_type": "markdown",
   "metadata": {},
   "source": [
    "## Find the median using python"
   ]
  },
  {
   "cell_type": "code",
   "execution_count": 15,
   "metadata": {},
   "outputs": [
    {
     "name": "stdout",
     "output_type": "stream",
     "text": [
      "[0, 0, 0, 1, 1, 2, 3, 3, 3, 3, 4, 4, 5, 5, 6, 7, 7, 7, 8, 9, 10, 10]\n"
     ]
    },
    {
     "data": {
      "text/plain": [
       "4.0"
      ]
     },
     "execution_count": 15,
     "metadata": {},
     "output_type": "execute_result"
    }
   ],
   "source": [
    "\n",
    "data = np.array([1, 3, 5, 2, 3, 7, 8, 4, 10, 0, 6, 7, 3, 0, 3, 0, 5, 7, 10, 1, 4, 9, 3])\n",
    "\n",
    "# TODO: Complete this function by having the function return the exact true median value of our dataset.\n",
    "# HINT: Consider using DataFrame slicing to help with identifying the correct median value(s).\n",
    "def compute_median(dataset):\n",
    "    \"\"\" Main function that determines the median value across our data. \"\"\"\n",
    "    dataset = sorted(dataset)\n",
    "    count = len(dataset)\n",
    "    print(dataset)\n",
    "    if count < 1:\n",
    "        # TODO: Complete this if-statement\n",
    "        return 0\n",
    "    if count % 2 == 0:\n",
    "        # TODO: Complete this if-statement\n",
    "        return (dataset[count//2] + dataset[(count+1)//2])/2\n",
    "    else:\n",
    "        # TODO: Complete this if-else statement\n",
    "        return dataset[count//2]\n",
    "    \n",
    "compute_median(data)\n"
   ]
  },
  {
   "cell_type": "markdown",
   "metadata": {},
   "source": [
    "## Write a function to compute the mode from an arbitrary dataset."
   ]
  },
  {
   "cell_type": "code",
   "execution_count": 28,
   "metadata": {},
   "outputs": [
    {
     "data": {
      "text/plain": [
       "3"
      ]
     },
     "execution_count": 28,
     "metadata": {},
     "output_type": "execute_result"
    }
   ],
   "source": [
    "# NOTE: Tricker than it looks!\n",
    "data = np.array([1, 3, 5, 2, 3, 7, 8, 4, 10, 0, 6, 7, 3, 0, 3, 0, 5, 7, 10, 1, 4, 9, 3])\n",
    "\n",
    "# TODO: Complete this function by having the function return the relative mode across our dataset.\n",
    "# HINT: Remember histograms and tokenization from CS 1.2? How many they help you here? \n",
    "\n",
    "from collections import Counter\n",
    "\n",
    "def compute_mode(dataset):\n",
    "    \"\"\" Main function that determines the mode value across our data. \"\"\"\n",
    "    counter = Counter(dataset)\n",
    "    value = max(counter.values())\n",
    "    for key, i in counter.items():\n",
    "        if counter[key] == value:\n",
    "            return key\n",
    "\n",
    "compute_mode(data)"
   ]
  },
  {
   "cell_type": "code",
   "execution_count": 32,
   "metadata": {},
   "outputs": [
    {
     "data": {
      "text/plain": [
       "3"
      ]
     },
     "execution_count": 32,
     "metadata": {},
     "output_type": "execute_result"
    }
   ],
   "source": [
    "stats.mode(data).mode[0]"
   ]
  },
  {
   "cell_type": "markdown",
   "metadata": {},
   "source": [
    "# Measures of Spread and Variance"
   ]
  },
  {
   "cell_type": "markdown",
   "metadata": {},
   "source": [
    "## Write a function to compute the range from an arbitrary dataset."
   ]
  },
  {
   "cell_type": "code",
   "execution_count": 34,
   "metadata": {},
   "outputs": [
    {
     "data": {
      "text/plain": [
       "(0, 10)"
      ]
     },
     "execution_count": 34,
     "metadata": {},
     "output_type": "execute_result"
    }
   ],
   "source": [
    "data = np.array([1, 3, 5, 2, 3, 7, 8, 4, 10, 0, 6, 7, 3, 0, 3, 0, 5, 7, 10, 1, 4, 9, 3])\n",
    "\n",
    "# TODO: Complete this function by having the function return the effective range of values across our data.\n",
    "def compute_range(dataset):\n",
    "    \"\"\" Main function that determines the range of values across our data. \"\"\"\n",
    "    \n",
    "    return (min(dataset), max(dataset))\n",
    "\n",
    "compute_range(data)\n"
   ]
  },
  {
   "cell_type": "code",
   "execution_count": 38,
   "metadata": {},
   "outputs": [
    {
     "data": {
      "text/plain": [
       "3.074992123493378"
      ]
     },
     "execution_count": 38,
     "metadata": {},
     "output_type": "execute_result"
    }
   ],
   "source": [
    "data = np.array([1, 3, 5, 2, 3, 7, 8, 4, 10, 0, 6, 7, 3, 0, 3, 0, 5, 7, 10, 1, 4, 9, 3])\n",
    "\n",
    "# TODO: Complete this function by having the function return the standard deviation of our data.\n",
    "# NOTE: Since we need the true mean across our data, let's use our previously written function!\n",
    "def compute_standard_deviation(dataset):\n",
    "    \"\"\" Main function that approximates the standard deviation of our data. \"\"\"\n",
    "    true_mean = compute_mean(dataset)\n",
    "    \n",
    "    # TODO: Complete these calculations step-by-step to correct the standard deviation calculation.\n",
    "    sum_diffs_squared = sum([(x-np.mean(dataset))**2 for x in dataset])/len(dataset)\n",
    "    variance = (sum_diffs_squared)\n",
    "    \n",
    "    return math.sqrt(variance)\n",
    "\n",
    "compute_standard_deviation(data)\n",
    "# sts.std(data)"
   ]
  },
  {
   "cell_type": "code",
   "execution_count": null,
   "metadata": {},
   "outputs": [],
   "source": []
  }
 ],
 "metadata": {
  "kernelspec": {
   "display_name": "Python 3",
   "language": "python",
   "name": "python3"
  },
  "language_info": {
   "codemirror_mode": {
    "name": "ipython",
    "version": 3
   },
   "file_extension": ".py",
   "mimetype": "text/x-python",
   "name": "python",
   "nbconvert_exporter": "python",
   "pygments_lexer": "ipython3",
   "version": "3.7.1"
  }
 },
 "nbformat": 4,
 "nbformat_minor": 2
}
