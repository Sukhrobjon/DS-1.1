{
 "cells": [
  {
   "cell_type": "markdown",
   "metadata": {},
   "source": [
    "# Google play store dataset "
   ]
  },
  {
   "cell_type": "code",
   "execution_count": 1,
   "metadata": {},
   "outputs": [],
   "source": [
    "import pandas as pd\n",
    "import numpy as np\n",
    "PATH = \"googleplaystore.csv\"\n",
    "df = pd.read_csv(PATH)"
   ]
  },
  {
   "cell_type": "code",
   "execution_count": 48,
   "metadata": {},
   "outputs": [
    {
     "data": {
      "text/plain": [
       "10841"
      ]
     },
     "execution_count": 48,
     "metadata": {},
     "output_type": "execute_result"
    }
   ],
   "source": [
    "len(df)"
   ]
  },
  {
   "cell_type": "code",
   "execution_count": 18,
   "metadata": {
    "scrolled": true
   },
   "outputs": [
    {
     "data": {
      "text/plain": [
       "34"
      ]
     },
     "execution_count": 18,
     "metadata": {},
     "output_type": "execute_result"
    }
   ],
   "source": [
    "len(df[\"Category\"].unique())"
   ]
  },
  {
   "cell_type": "code",
   "execution_count": 17,
   "metadata": {},
   "outputs": [
    {
     "data": {
      "text/plain": [
       "120"
      ]
     },
     "execution_count": 17,
     "metadata": {},
     "output_type": "execute_result"
    }
   ],
   "source": [
    "len(df[\"Genres\"].unique()) \n",
    "# lets drop genres column that sounds a duplicate with \"Category\" column "
   ]
  },
  {
   "cell_type": "code",
   "execution_count": 4,
   "metadata": {},
   "outputs": [
    {
     "data": {
      "text/plain": [
       "NaN      1474\n",
       " 4.4     1109\n",
       " 4.3     1076\n",
       " 4.5     1038\n",
       " 4.2      952\n",
       " 4.6      823\n",
       " 4.1      708\n",
       " 4.0      568\n",
       " 4.7      499\n",
       " 3.9      386\n",
       " 3.8      303\n",
       " 5.0      274\n",
       " 3.7      239\n",
       " 4.8      234\n",
       " 3.6      174\n",
       " 3.5      163\n",
       " 3.4      128\n",
       " 3.3      102\n",
       " 4.9       87\n",
       " 3.0       83\n",
       " 3.1       69\n",
       " 3.2       64\n",
       " 2.9       45\n",
       " 2.8       42\n",
       " 2.6       25\n",
       " 2.7       25\n",
       " 2.5       21\n",
       " 2.3       20\n",
       " 2.4       19\n",
       " 1.0       16\n",
       " 2.2       14\n",
       " 1.9       13\n",
       " 2.0       12\n",
       " 1.8        8\n",
       " 1.7        8\n",
       " 2.1        8\n",
       " 1.6        4\n",
       " 1.5        3\n",
       " 1.4        3\n",
       " 1.2        1\n",
       " 19.0       1\n",
       "Name: Rating, dtype: int64"
      ]
     },
     "execution_count": 4,
     "metadata": {},
     "output_type": "execute_result"
    }
   ],
   "source": [
    "df[\"Rating\"].value_counts(dropna=False)\n",
    "# think about what to do with that many NaN values and delete the only redundant value:\"19.0\""
   ]
  },
  {
   "cell_type": "code",
   "execution_count": 5,
   "metadata": {},
   "outputs": [
    {
     "data": {
      "text/plain": [
       "0           10040\n",
       "$0.99         148\n",
       "$2.99         129\n",
       "$1.99          73\n",
       "$4.99          72\n",
       "$3.99          63\n",
       "$1.49          46\n",
       "$5.99          30\n",
       "$2.49          26\n",
       "$9.99          21\n",
       "$6.99          13\n",
       "$399.99        12\n",
       "$14.99         11\n",
       "$4.49           9\n",
       "$3.49           7\n",
       "$24.99          7\n",
       "$7.99           7\n",
       "$29.99          7\n",
       "$5.49           6\n",
       "$19.99          6\n",
       "$6.49           5\n",
       "$12.99          5\n",
       "$11.99          5\n",
       "$8.99           5\n",
       "$16.99          3\n",
       "$1.00           3\n",
       "$10.00          3\n",
       "$2.00           3\n",
       "$79.99          2\n",
       "$39.99          2\n",
       "            ...  \n",
       "$3.88           1\n",
       "$394.99         1\n",
       "$18.99          1\n",
       "$1.29           1\n",
       "$3.61           1\n",
       "$200.00         1\n",
       "$25.99          1\n",
       "$2.50           1\n",
       "$1.50           1\n",
       "$4.29           1\n",
       "$109.99         1\n",
       "$2.59           1\n",
       "$1.96           1\n",
       "$4.59           1\n",
       "$1.61           1\n",
       "$4.84           1\n",
       "$1.59           1\n",
       "$4.85           1\n",
       "$1.04           1\n",
       "$3.90           1\n",
       "$89.99          1\n",
       "$74.99          1\n",
       "Everyone        1\n",
       "$1.20           1\n",
       "$4.77           1\n",
       "$3.08           1\n",
       "$379.99         1\n",
       "$3.04           1\n",
       "$2.90           1\n",
       "$30.99          1\n",
       "Name: Price, Length: 93, dtype: int64"
      ]
     },
     "execution_count": 5,
     "metadata": {},
     "output_type": "execute_result"
    }
   ],
   "source": [
    "df[\"Price\"].value_counts()"
   ]
  },
  {
   "cell_type": "code",
   "execution_count": 6,
   "metadata": {},
   "outputs": [],
   "source": [
    "# what makes the most installing of the app?"
   ]
  },
  {
   "cell_type": "code",
   "execution_count": 8,
   "metadata": {},
   "outputs": [
    {
     "data": {
      "text/plain": [
       "Everyone           8714\n",
       "Teen               1208\n",
       "Mature 17+          499\n",
       "Everyone 10+        414\n",
       "Adults only 18+       3\n",
       "Unrated               2\n",
       "NaN                   1\n",
       "Name: Content Rating, dtype: int64"
      ]
     },
     "execution_count": 8,
     "metadata": {},
     "output_type": "execute_result"
    }
   ],
   "source": [
    "df[\"Content Rating\"].value_counts(dropna=False)"
   ]
  },
  {
   "cell_type": "code",
   "execution_count": 10,
   "metadata": {},
   "outputs": [],
   "source": [
    "# df[\"Android Ver\"].value_counts(dropna=False)"
   ]
  },
  {
   "cell_type": "code",
   "execution_count": 13,
   "metadata": {},
   "outputs": [
    {
     "data": {
      "text/plain": [
       "Free    10039\n",
       "Paid      800\n",
       "0           1\n",
       "NaN         1\n",
       "Name: Type, dtype: int64"
      ]
     },
     "execution_count": 13,
     "metadata": {},
     "output_type": "execute_result"
    }
   ],
   "source": [
    "df[\"Type\"].value_counts(dropna=False)\n",
    "# I need to drop nan and 0 values"
   ]
  },
  {
   "cell_type": "code",
   "execution_count": 76,
   "metadata": {},
   "outputs": [
    {
     "data": {
      "text/plain": [
       "dtype('O')"
      ]
     },
     "execution_count": 76,
     "metadata": {},
     "output_type": "execute_result"
    }
   ],
   "source": [
    "df[\"Size\"].dtypes"
   ]
  },
  {
   "cell_type": "code",
   "execution_count": 56,
   "metadata": {},
   "outputs": [
    {
     "name": "stderr",
     "output_type": "stream",
     "text": [
      "/anaconda3/lib/python3.7/site-packages/pandas/core/generic.py:5890: SettingWithCopyWarning: \n",
      "A value is trying to be set on a copy of a slice from a DataFrame\n",
      "\n",
      "See the caveats in the documentation: http://pandas.pydata.org/pandas-docs/stable/indexing.html#indexing-view-versus-copy\n",
      "  self._update_inplace(new_data)\n"
     ]
    }
   ],
   "source": [
    "df[\"Size\"].value_counts()\n",
    "len(df[df[\"Size\"] == \"Varies with device\"])/len(df[\"Size\"])\n",
    "# I am gonna replace \"varies with device\" with zero, since I can make assumption the size of the apps \n",
    "\n",
    "df[\"Size\"].replace(\"Varies with device\", \"0M\", inplace=True)"
   ]
  },
  {
   "cell_type": "code",
   "execution_count": 57,
   "metadata": {},
   "outputs": [],
   "source": [
    "# dropping garbage\n",
    "df = df[df[\"Size\"] != \"1,000+\"]"
   ]
  },
  {
   "cell_type": "code",
   "execution_count": 63,
   "metadata": {},
   "outputs": [
    {
     "data": {
      "text/plain": [
       "0"
      ]
     },
     "execution_count": 63,
     "metadata": {},
     "output_type": "execute_result"
    }
   ],
   "source": [
    "# df[df[\"Size\"][-1] == 'k']\n",
    "# df[\"Size\"].value_counts()\n",
    "df[\"Size\"].isnull().sum()"
   ]
  },
  {
   "cell_type": "code",
   "execution_count": 70,
   "metadata": {},
   "outputs": [],
   "source": [
    "df['Size'].replace('', np.nan, inplace=True)\n",
    "df[\"Size\"].fillna(\"0M\", inplace=True)\n",
    "\n",
    "\n",
    "# len(df[df[\"Size\"] == \"0M\"])\n",
    "\n",
    "# len(df[df[\"Size\"] == \"0M\"])"
   ]
  },
  {
   "cell_type": "code",
   "execution_count": 80,
   "metadata": {},
   "outputs": [],
   "source": [
    "df[\"Size\"] = df[\"Size\"].apply(lambda x: (x[:-1]))\n"
   ]
  },
  {
   "cell_type": "code",
   "execution_count": 81,
   "metadata": {},
   "outputs": [
    {
     "data": {
      "text/plain": [
       "0         19\n",
       "1         14\n",
       "2        8.7\n",
       "3         25\n",
       "4        2.8\n",
       "5        5.6\n",
       "6         19\n",
       "7         29\n",
       "8         33\n",
       "9        3.1\n",
       "10        28\n",
       "11        12\n",
       "12        20\n",
       "13        21\n",
       "14        37\n",
       "15       2.7\n",
       "16       5.5\n",
       "17        17\n",
       "18        39\n",
       "19        31\n",
       "20        14\n",
       "21        12\n",
       "22       4.2\n",
       "23       7.0\n",
       "24        23\n",
       "25       6.0\n",
       "26        25\n",
       "27       6.1\n",
       "28       4.6\n",
       "29       4.2\n",
       "        ... \n",
       "10811    3.9\n",
       "10812     13\n",
       "10813    2.7\n",
       "10814     31\n",
       "10815    4.9\n",
       "10816    6.8\n",
       "10817    8.0\n",
       "10818    1.5\n",
       "10819    3.6\n",
       "10820    8.6\n",
       "10821    2.5\n",
       "10822    3.1\n",
       "10823    2.9\n",
       "10824     82\n",
       "10825    7.7\n",
       "10826      0\n",
       "10827     13\n",
       "10828     13\n",
       "10829    7.4\n",
       "10830    2.3\n",
       "10831    9.8\n",
       "10832    582\n",
       "10833    619\n",
       "10834    2.6\n",
       "10835    9.6\n",
       "10836     53\n",
       "10837    3.6\n",
       "10838    9.5\n",
       "10839      0\n",
       "10840     19\n",
       "Name: Size, Length: 10840, dtype: object"
      ]
     },
     "execution_count": 81,
     "metadata": {},
     "output_type": "execute_result"
    }
   ],
   "source": [
    "df[\"Size\"]"
   ]
  },
  {
   "cell_type": "code",
   "execution_count": null,
   "metadata": {},
   "outputs": [],
   "source": []
  }
 ],
 "metadata": {
  "kernelspec": {
   "display_name": "Python 3",
   "language": "python",
   "name": "python3"
  },
  "language_info": {
   "codemirror_mode": {
    "name": "ipython",
    "version": 3
   },
   "file_extension": ".py",
   "mimetype": "text/x-python",
   "name": "python",
   "nbconvert_exporter": "python",
   "pygments_lexer": "ipython3",
   "version": "3.7.1"
  }
 },
 "nbformat": 4,
 "nbformat_minor": 2
}
